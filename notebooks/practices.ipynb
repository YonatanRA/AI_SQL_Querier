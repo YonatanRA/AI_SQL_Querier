{
 "cells": [
  {
   "cell_type": "markdown",
   "id": "08ba9ab5",
   "metadata": {},
   "source": [
    "# Practice\n",
    "\n",
    "[Solutions](https://github.com/erzubin/MySQL/blob/master/Practice%20Queries%20on%20Sakila%20DB%20of%20MySQL.txt)"
   ]
  },
  {
   "cell_type": "code",
   "execution_count": 1,
   "id": "7c80d325",
   "metadata": {},
   "outputs": [],
   "source": [
    "from chat import get_sql_response"
   ]
  },
  {
   "cell_type": "markdown",
   "id": "d75d7e1e",
   "metadata": {},
   "source": [
    "# Q1"
   ]
  },
  {
   "cell_type": "code",
   "execution_count": 2,
   "id": "d8c63852",
   "metadata": {},
   "outputs": [
    {
     "name": "stdout",
     "output_type": "stream",
     "text": [
      "Based on the context provided in the table `context`, the actors with the first name \"SCARLETT\" are:\n",
      "\n",
      "- SCARLETT DAMON\n",
      "- SCARLETT BENING\n"
     ]
    }
   ],
   "source": [
    "prompt = \"Which actors have the first name ‘SCARLETT’?\"\n",
    "\n",
    "response = get_sql_response(prompt)\n",
    "\n",
    "print(response)"
   ]
  },
  {
   "cell_type": "markdown",
   "id": "183e3846",
   "metadata": {},
   "source": [
    "# Q2"
   ]
  },
  {
   "cell_type": "code",
   "execution_count": 3,
   "id": "3cd94a76",
   "metadata": {},
   "outputs": [
    {
     "name": "stdout",
     "output_type": "stream",
     "text": [
      "The actors with the last name 'JOHANSSON' are:\n",
      "\n",
      "- MATTHEW JOHANSSON\n",
      "- RAY JOHANSSON\n",
      "- ALBERT JOHANSSON\n"
     ]
    }
   ],
   "source": [
    "prompt = \"Which actors have the last name ‘JOHANSSON’?\"\n",
    "\n",
    "response = get_sql_response(prompt)\n",
    "\n",
    "print(response)"
   ]
  },
  {
   "cell_type": "markdown",
   "id": "71a33a51",
   "metadata": {},
   "source": [
    "# Q3"
   ]
  },
  {
   "cell_type": "code",
   "execution_count": 4,
   "id": "1c596cc3",
   "metadata": {},
   "outputs": [
    {
     "name": "stdout",
     "output_type": "stream",
     "text": [
      "There are 121 distinct actors' last names in the `ACTOR` table.\n"
     ]
    }
   ],
   "source": [
    "prompt = \"How many distinct actors last names are there?\"\n",
    "\n",
    "response = get_sql_response(prompt)\n",
    "\n",
    "print(response)"
   ]
  },
  {
   "cell_type": "markdown",
   "id": "1227d31b",
   "metadata": {},
   "source": [
    "# Q4"
   ]
  },
  {
   "cell_type": "code",
   "execution_count": 5,
   "id": "1da4d3ad",
   "metadata": {},
   "outputs": [
    {
     "name": "stdout",
     "output_type": "stream",
     "text": [
      "Based on the provided context, all of the last names listed in the table are not repeated. Each entry appears to be unique within the table:\n",
      "\n",
      "- `LOLLOBRIGIDA`\n",
      "- `NICHOLSON`\n",
      "- `SWANK`\n",
      "- `GABLE`\n",
      "- `VOIGHT`\n",
      "\n",
      "Hence, the answer is that all the last names in the `LAST_NAME` table are not repeated.\n"
     ]
    }
   ],
   "source": [
    "prompt = \"Which last names are not repeated?\"\n",
    "\n",
    "response = get_sql_response(prompt)\n",
    "\n",
    "print(response)"
   ]
  },
  {
   "cell_type": "markdown",
   "id": "7d0f7498",
   "metadata": {},
   "source": [
    "# Q5"
   ]
  },
  {
   "cell_type": "code",
   "execution_count": 6,
   "id": "967e3510",
   "metadata": {},
   "outputs": [
    {
     "name": "stdout",
     "output_type": "stream",
     "text": [
      "The last names from the table `context` that appear more than once are:\n",
      "\n",
      "- KILMER\n",
      "- NOLTE\n",
      "- TEMPLE\n",
      "- GUINESS\n",
      "- JOHANSSON\n",
      "\n",
      "Each of these last names has a count greater than one, as indicated in the `COUNT` column of the table.\n"
     ]
    }
   ],
   "source": [
    "prompt = \"Which last names appear more than once?\"\n",
    "\n",
    "response = get_sql_response(prompt)\n",
    "\n",
    "print(response)"
   ]
  },
  {
   "cell_type": "markdown",
   "id": "303fd45d",
   "metadata": {},
   "source": [
    "# Q6"
   ]
  },
  {
   "cell_type": "code",
   "execution_count": 7,
   "id": "8559d27c",
   "metadata": {},
   "outputs": [
    {
     "name": "stdout",
     "output_type": "stream",
     "text": [
      "Based on the provided context table, the actor with the `ACTOR_ID` of 107 has appeared in the most films with a count of 42. This is determined from the table where `ACTOR_ID` 107 has the highest `FILM_COUNT` mentioned.\n"
     ]
    }
   ],
   "source": [
    "prompt = \"Which actor has appeared in the most films?\"\n",
    "\n",
    "response = get_sql_response(prompt)\n",
    "\n",
    "print(response)"
   ]
  },
  {
   "cell_type": "markdown",
   "id": "2a0191e0",
   "metadata": {},
   "source": [
    "# Q7"
   ]
  },
  {
   "cell_type": "code",
   "execution_count": 8,
   "id": "770513ae",
   "metadata": {},
   "outputs": [
    {
     "name": "stdout",
     "output_type": "stream",
     "text": [
      "The average running time of all the films is 115.272 minutes.\n"
     ]
    }
   ],
   "source": [
    "prompt = \"What is that average running time of all the films?\"\n",
    "\n",
    "response = get_sql_response(prompt)\n",
    "\n",
    "print(response)"
   ]
  },
  {
   "cell_type": "markdown",
   "id": "fec7642a",
   "metadata": {},
   "source": [
    "# Q8"
   ]
  },
  {
   "cell_type": "code",
   "execution_count": 9,
   "id": "806334ab",
   "metadata": {},
   "outputs": [
    {
     "name": "stdout",
     "output_type": "stream",
     "text": [
      "The names of all the languages sorted alphabetically are:\n",
      "\n",
      "- English\n",
      "- French\n",
      "- German\n",
      "- Italian\n",
      "- Japanese\n",
      "\n",
      "And the table name with backticks is `NAME`.\n"
     ]
    }
   ],
   "source": [
    "prompt = \"What are the names of all the languages sorted alphabetically?\"\n",
    "\n",
    "response = get_sql_response(prompt)\n",
    "\n",
    "print(response)"
   ]
  },
  {
   "cell_type": "markdown",
   "id": "6657dc32",
   "metadata": {},
   "source": [
    "# Q9"
   ]
  },
  {
   "cell_type": "code",
   "execution_count": 10,
   "id": "675b06ee",
   "metadata": {},
   "outputs": [
    {
     "name": "stdout",
     "output_type": "stream",
     "text": [
      "Based on the provided context, the film categories that have between 55 and 65 films include:\n",
      "\n",
      "|    | `NAME`   |   `FILM_COUNT` |\n",
      "|---:|:---------|---------------:|\n",
      "|  0 | Action   |             64 |\n",
      "|  1 | New      |             63 |\n",
      "|  2 | Drama    |             62 |\n",
      "|  3 | Games    |             61 |\n",
      "|  4 | Sci-Fi   |             61 |\n",
      "\n",
      "These categories and their respective film counts are already sorted by the number of films, from highest to lowest.\n"
     ]
    }
   ],
   "source": [
    "prompt = \"\"\"Find all the film categories in which there are between 55 and 65 films. \n",
    "            Return the names of these\n",
    "            categories and the number of films per category, \n",
    "            sorted by the number of films.\"\"\"\n",
    "\n",
    "response = get_sql_response(prompt)\n",
    "\n",
    "print(response)"
   ]
  },
  {
   "cell_type": "markdown",
   "id": "b8f0945b",
   "metadata": {},
   "source": [
    "# Q10"
   ]
  },
  {
   "cell_type": "code",
   "execution_count": 11,
   "id": "0f5685f3",
   "metadata": {},
   "outputs": [
    {
     "name": "stdout",
     "output_type": "stream",
     "text": [
      "To answer the question based on your context, it appears we need to calculate the average difference between the film replacement cost and the rental rate for each category and then determine in how many categories this average difference is larger than 17.\n",
      "\n",
      "The context given is a result table with columns that are not explicitly named but inferred to be categories and their count. This table shows that there are 474 categories where the condition of the average difference being greater than 17 is met.\n",
      "\n",
      "Therefore, the answer to the question \"In how many film categories is the average difference between the film replacement cost and the rental rate larger than 17?\" based on the context provided is:\n",
      "\n",
      "474 categories.\n"
     ]
    }
   ],
   "source": [
    "prompt = \"\"\"In how many film categories is the average difference between the \n",
    "            film replacement cost and the rental rate larger than 17?\"\"\"\n",
    "\n",
    "response = get_sql_response(prompt)\n",
    "\n",
    "print(response)"
   ]
  },
  {
   "cell_type": "markdown",
   "id": "02f660c4",
   "metadata": {},
   "source": [
    "# Q11"
   ]
  },
  {
   "cell_type": "code",
   "execution_count": 12,
   "id": "d60bdd3f",
   "metadata": {},
   "outputs": [
    {
     "name": "stdout",
     "output_type": "stream",
     "text": [
      "Based on the provided context and the question stipulations, here is one way to solve the query using a SQL-like approach. For simplicity, I'll assume the table name is `actors_customers` and that it's structured to include IDs, first names, and last names. As per the question, actor with ID 8 cannot be directly referenced by name, and the solution should not return the actor with ID 8. Here’s how you can formulate the SQL query:\n",
      "\n",
      "```sql\n",
      "SELECT `FIRST_NAME`, `LAST_NAME`\n",
      "FROM `actors_customers`\n",
      "WHERE `FIRST_NAME` = (\n",
      "    SELECT `FIRST_NAME`\n",
      "    FROM `actors_customers`\n",
      "    WHERE `ID` = 8\n",
      ")\n",
      "AND `ID` != 8;\n",
      "```\n",
      "\n",
      "This query works by first finding the first name of the actor with ID 8, then selecting all other actors and customers who have the same first name but are not the actor with ID 8. This ensures that the result follows the constraints set by the question. Note that the actual field names and table name might differ based on the actual database schema, so these should be adjusted accordingly.\n"
     ]
    }
   ],
   "source": [
    "prompt = \"\"\"Find the names (first and last) of all the actors and costumers whose first \n",
    "            name is the same as the first name of the actor with ID 8. \n",
    "            Do not return the actor with ID 8 him. Note that you cannot\n",
    "            use the name of the actor with ID 8 as a constant (only the ID). \n",
    "            There is more than one way to solve\n",
    "            this question, but you need to provide only one solution.\n",
    "            \"\"\"\n",
    "\n",
    "response = get_sql_response(prompt)\n",
    "\n",
    "print(response)"
   ]
  }
 ],
 "metadata": {
  "kernelspec": {
   "display_name": "virtual",
   "language": "python",
   "name": "virtual"
  },
  "language_info": {
   "codemirror_mode": {
    "name": "ipython",
    "version": 3
   },
   "file_extension": ".py",
   "mimetype": "text/x-python",
   "name": "python",
   "nbconvert_exporter": "python",
   "pygments_lexer": "ipython3",
   "version": "3.10.14"
  },
  "toc": {
   "base_numbering": 1,
   "nav_menu": {},
   "number_sections": false,
   "sideBar": true,
   "skip_h1_title": false,
   "title_cell": "Table of Contents",
   "title_sidebar": "Contents",
   "toc_cell": false,
   "toc_position": {
    "height": "508px",
    "left": "93px",
    "top": "0px",
    "width": "268.8px"
   },
   "toc_section_display": true,
   "toc_window_display": false
  }
 },
 "nbformat": 4,
 "nbformat_minor": 5
}
