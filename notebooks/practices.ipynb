{
 "cells": [
  {
   "cell_type": "code",
   "execution_count": 1,
   "id": "ea2ac405",
   "metadata": {},
   "outputs": [],
   "source": [
    "from chat import get_sql_response"
   ]
  },
  {
   "cell_type": "markdown",
   "id": "c509bb93",
   "metadata": {},
   "source": [
    "# Q1"
   ]
  },
  {
   "cell_type": "code",
   "execution_count": 2,
   "id": "d2586dbc",
   "metadata": {},
   "outputs": [
    {
     "name": "stdout",
     "output_type": "stream",
     "text": [
      "The actors with the first name \"Scarlett\" are:\n",
      "\n",
      "1. Scarlett Damon\n",
      "2. Scarlett Bening\n"
     ]
    }
   ],
   "source": [
    "prompt = \"Which actors have the first name ‘Scarlett’?\"\n",
    "\n",
    "response = get_sql_response(prompt)\n",
    "\n",
    "print(response)"
   ]
  },
  {
   "cell_type": "markdown",
   "id": "56ea322a",
   "metadata": {},
   "source": [
    "# Q2"
   ]
  },
  {
   "cell_type": "code",
   "execution_count": 3,
   "id": "b35618c2",
   "metadata": {},
   "outputs": [
    {
     "name": "stdout",
     "output_type": "stream",
     "text": [
      "The actors with the last name 'Johansson' are:\n",
      "\n",
      "1. MATTHEW JOHANSSON\n",
      "2. RAY JOHANSSON\n",
      "3. ALBERT JOHANSSON\n"
     ]
    }
   ],
   "source": [
    "prompt = \"Which actors have the last name ‘Johansson’?\"\n",
    "\n",
    "response = get_sql_response(prompt)\n",
    "\n",
    "print(response)"
   ]
  },
  {
   "cell_type": "markdown",
   "id": "465723a6",
   "metadata": {},
   "source": [
    "# Q3"
   ]
  },
  {
   "cell_type": "code",
   "execution_count": 4,
   "id": "5cb6e90c",
   "metadata": {},
   "outputs": [
    {
     "name": "stdout",
     "output_type": "stream",
     "text": [
      "Based on the provided context, there are 121 distinct actors' last names.\n"
     ]
    }
   ],
   "source": [
    "prompt = \"How many distinct actors last names are there?\"\n",
    "\n",
    "response = get_sql_response(prompt)\n",
    "\n",
    "print(response)"
   ]
  },
  {
   "cell_type": "markdown",
   "id": "fd6f83c7",
   "metadata": {},
   "source": [
    "# Q4"
   ]
  },
  {
   "cell_type": "code",
   "execution_count": 5,
   "id": "241f901c",
   "metadata": {},
   "outputs": [
    {
     "name": "stdout",
     "output_type": "stream",
     "text": [
      "The provided context consists of a list of last names with their corresponding index numbers. From the context given, it appears each last name is unique and listed once. Therefore, all last names in the list are not repeated.\n"
     ]
    }
   ],
   "source": [
    "prompt = \"Which last names are not repeated?\"\n",
    "\n",
    "response = get_sql_response(prompt)\n",
    "\n",
    "print(response)"
   ]
  },
  {
   "cell_type": "markdown",
   "id": "213f68a3",
   "metadata": {},
   "source": [
    "# Q5"
   ]
  },
  {
   "cell_type": "code",
   "execution_count": 6,
   "id": "e7cfd6ed",
   "metadata": {},
   "outputs": [
    {
     "name": "stdout",
     "output_type": "stream",
     "text": [
      "The last names that appear more than once in the given context are:\n",
      "\n",
      "- KILMER\n",
      "- TEMPLE\n",
      "- NOLTE\n",
      "- ZELLWEGER\n",
      "- BERRY\n",
      "\n",
      "Each of these last names has a count greater than one, as indicated in the \"count\" column of the table.\n"
     ]
    }
   ],
   "source": [
    "prompt = \"Which last names appear more than once?\"\n",
    "\n",
    "response = get_sql_response(prompt)\n",
    "\n",
    "print(response)"
   ]
  },
  {
   "cell_type": "markdown",
   "id": "7da5b1cc",
   "metadata": {},
   "source": [
    "# Q6"
   ]
  },
  {
   "cell_type": "code",
   "execution_count": 7,
   "id": "8922d51d",
   "metadata": {},
   "outputs": [
    {
     "name": "stdout",
     "output_type": "stream",
     "text": [
      "Based on the provided context, the actor Gina Degeneres has appeared in 42 films. Since Gina Degeneres is the only actor mentioned in the context, she has appeared in the most films according to the given data.\n"
     ]
    }
   ],
   "source": [
    "prompt = \"Which actor has appeared in the most films?\"\n",
    "\n",
    "response = get_sql_response(prompt)\n",
    "\n",
    "print(response)"
   ]
  },
  {
   "cell_type": "markdown",
   "id": "7c8aa300",
   "metadata": {},
   "source": [
    "# Q7"
   ]
  },
  {
   "cell_type": "code",
   "execution_count": 8,
   "id": "0f37b349",
   "metadata": {},
   "outputs": [
    {
     "name": "stdout",
     "output_type": "stream",
     "text": [
      "Based on the information provided in the table, the film \"ACADEMY DINOSAUR\" has a rental date but no return date listed. This suggests that the movie is currently rented out and has not been returned yet. Therefore, \"ACADEMY DINOSAUR\" is not available for rent from Store 1 or any other store until it is returned.\n"
     ]
    }
   ],
   "source": [
    "prompt = \"Is ‘Academy Dinosaur’ available for rent from Store 1?\"\n",
    "\n",
    "response = get_sql_response(prompt)\n",
    "\n",
    "print(response)"
   ]
  },
  {
   "cell_type": "markdown",
   "id": "a178a301",
   "metadata": {},
   "source": [
    "# Q8"
   ]
  },
  {
   "cell_type": "code",
   "execution_count": 9,
   "id": "e7e660d9",
   "metadata": {},
   "outputs": [
    {
     "name": "stdout",
     "output_type": "stream",
     "text": [
      "The context provided does not contain any specific information regarding \"Academy Dinosaur\" or any comprehensible date format. The number in the return_date column \"1.12112e+18\" appears to be a large number in scientific notation and does not provide any meaningful date information.\n",
      "\n",
      "To accurately answer your question, I would need additional context or clarification that clearly states the return date for 'Academy Dinosaur' in a recognizable date format. Please provide further details or check the source of your data.\n"
     ]
    }
   ],
   "source": [
    "prompt = \"When is ‘Academy Dinosaur’ due?\"\n",
    "\n",
    "response = get_sql_response(prompt)\n",
    "\n",
    "print(response)"
   ]
  },
  {
   "cell_type": "markdown",
   "id": "18420527",
   "metadata": {},
   "source": [
    "# Q9"
   ]
  },
  {
   "cell_type": "code",
   "execution_count": 10,
   "id": "b18d37ea",
   "metadata": {},
   "outputs": [
    {
     "name": "stdout",
     "output_type": "stream",
     "text": [
      "The average running time of all the films given in the context is 115.272 minutes.\n"
     ]
    }
   ],
   "source": [
    "prompt = \"What is that average running time of all the films?\"\n",
    "\n",
    "response = get_sql_response(prompt)\n",
    "\n",
    "print(response)"
   ]
  },
  {
   "cell_type": "markdown",
   "id": "bcf064b6",
   "metadata": {},
   "source": [
    "# Q10"
   ]
  },
  {
   "cell_type": "code",
   "execution_count": 11,
   "id": "a3aaff92",
   "metadata": {},
   "outputs": [
    {
     "name": "stdout",
     "output_type": "stream",
     "text": [
      "The names of all the languages sorted alphabetically are:\n",
      "\n",
      "1. English\n",
      "2. French\n",
      "3. German\n",
      "4. Italian\n",
      "5. Japanese\n"
     ]
    }
   ],
   "source": [
    "prompt = \"What are the names of all the languages sorted alphabetically?\"\n",
    "\n",
    "response = get_sql_response(prompt)\n",
    "\n",
    "print(response)"
   ]
  },
  {
   "cell_type": "markdown",
   "id": "f923efdf",
   "metadata": {},
   "source": [
    "# Q11"
   ]
  },
  {
   "cell_type": "code",
   "execution_count": 12,
   "id": "ce422500",
   "metadata": {},
   "outputs": [
    {
     "name": "stdout",
     "output_type": "stream",
     "text": [
      "Based on the provided table, the task is to find all film categories with the number of films between 55 and 65 (inclusive) and return the names of those categories along with the number of films, sorted by the number of films.\n",
      "\n",
      "Here are the categories that fall within the specified range:\n",
      "\n",
      "1. Horror: 56 films\n",
      "2. Classics: 57 films\n",
      "3. Travel: 57 films\n",
      "4. Comedy: 58 films\n",
      "5. Children: 60 films\n",
      "6. Games: 61 films\n",
      "7. Sci-Fi: 61 films\n",
      "8. Drama: 62 films\n",
      "9. New: 63 films\n",
      "10. Action: 64 films\n",
      "\n",
      "Sorted by the number of films, the list is:\n",
      "\n",
      "| category_name | num_films |\n",
      "|---------------|-----------|\n",
      "| Horror        |        56 |\n",
      "| Classics      |        57 |\n",
      "| Travel        |        57 |\n",
      "| Comedy        |        58 |\n",
      "| Children      |        60 |\n",
      "| Games         |        61 |\n",
      "| Sci-Fi        |        61 |\n",
      "| Drama         |        62 |\n",
      "| New           |        63 |\n",
      "| Action        |        64 |\n",
      "\n",
      "These are the categories and their corresponding number of films, sorted from the fewest to the most films within the specified range.\n"
     ]
    }
   ],
   "source": [
    "prompt = \"\"\"Find all the film categories in which there are between 55 and 65 films. \n",
    "            Return the names of these\n",
    "            categories and the number of films per category, \n",
    "            sorted by the number of films.\"\"\"\n",
    "\n",
    "response = get_sql_response(prompt)\n",
    "\n",
    "print(response)"
   ]
  },
  {
   "cell_type": "markdown",
   "id": "6c0e8382",
   "metadata": {},
   "source": [
    "# Q12"
   ]
  },
  {
   "cell_type": "code",
   "execution_count": 13,
   "id": "3c7e26d7",
   "metadata": {},
   "outputs": [
    {
     "name": "stdout",
     "output_type": "stream",
     "text": [
      "To determine the number of film categories where the average difference between the film replacement cost and the rental rate is larger than 17, we would typically need additional data, specifically:\n",
      "\n",
      "1. The replacement cost of each film.\n",
      "2. The rental rate of each film.\n",
      "3. The category of each film.\n",
      "\n",
      "However, since the provided context only includes a table with indices (0 to 4) and a column labeled \"num_categories\" showing numbers (35, 31, 30, 30, 22), it seems there may be a misunderstanding or misalignment between the context and the question.\n",
      "\n",
      "If the question is based on a hypothetical or assumed dataset where calculations can be performed to determine the average differences between film replacement costs and rental rates for different categories, then here's how we can approach it:\n",
      "\n",
      "1. **Data Acquisition**: We need a comprehensive dataset detailing films’ replacement costs, rental rates, and their categories.\n",
      "2. **Data Analysis**:\n",
      "   - Calculate the difference between replacement cost and rental rate for each film.\n",
      "   - Group these films by their category.\n",
      "   - Compute the average of these differences for each category.\n",
      "3. **Filtering the Results**:\n",
      "   - Count how many categories have an average difference greater than 17.\n",
      "\n",
      "Given the nature of the question, it seems it is intended for a scenario where such data is available, and such calculations are feasible. However, without actual data on costs, rates, and categories, I can't provide a specific number of categories that meet the criterion. \n",
      "\n",
      "To answer your question appropriately, please ensure the dataset includes the necessary financial details of the films and their categorizations, or clarify if the given table is meant to represent these calculations indirectly. Without this, the question cannot be accurately answered with the provided information.\n"
     ]
    }
   ],
   "source": [
    "prompt = \"\"\"In how many film categories is the average difference between the \n",
    "            film replacement cost and the rental rate larger than 17?\"\"\"\n",
    "\n",
    "response = get_sql_response(prompt)\n",
    "\n",
    "print(response)"
   ]
  },
  {
   "cell_type": "markdown",
   "id": "2d3882ab",
   "metadata": {},
   "source": [
    "# Q13"
   ]
  },
  {
   "cell_type": "code",
   "execution_count": 14,
   "id": "90afd000",
   "metadata": {},
   "outputs": [
    {
     "name": "stdout",
     "output_type": "stream",
     "text": [
      "To answer this question, you will need to perform a SQL query on a database that holds information about actors and customers. I'll provide an example SQL query based on the assumption that you have two tables: one for actors (`actors`) and one for customers (`customers`). The actors table includes columns `actor_id`, `first_name`, and `last_name`, while the customers table includes columns `customer_id`, `first_name`, and `last_name`.\n",
      "\n",
      "Here's a step-by-step SQL query to find the names of all actors and customers whose first name is the same as the first name of the actor with ID 8, excluding the actor with ID 8 himself:\n",
      "\n",
      "```sql\n",
      "/* Step 1: Identify the first name of the actor with ID 8 */\n",
      "SELECT first_name INTO @ActorName\n",
      "FROM actors\n",
      "WHERE actor_id = 8;\n",
      "\n",
      "/* Step 2: Find all actors and customers who share the same first name, excluding actor with ID 8 */\n",
      "SELECT 'Actor' AS Type, first_name, last_name\n",
      "FROM actors\n",
      "WHERE first_name = @ActorName\n",
      "  AND actor_id <> 8\n",
      "UNION ALL\n",
      "SELECT 'Customer' AS Type, first_name, last_name\n",
      "FROM customers\n",
      "WHERE first_name = @ActorName;\n",
      "```\n",
      "\n",
      "### Explanation\n",
      "1. **Variable Declaration**: The variable `@ActorName` is used to store the first name of the actor with ID 8.\n",
      "2. **Select Query for Actor's First Name**: The first `SELECT` statement retrieves the first name of the actor with ID 8 and stores it in the variable `@ActorName`.\n",
      "3. **Union Query for Retrieving Matching Names**: The second part of the query uses a `UNION ALL` to combine the results from the `actors` and `customers` tables. It checks for any actors or customers whose first name matches `@ActorName` but ensures that the actor with ID 8 is not included in the results (\"actor_id <> 8\").\n",
      "   - The `'Actor'` and `'Customer'` labels are used to distinguish between records coming from the actors table and those from the customers table.\n",
      "\n",
      "This approach ensures that you dynamically retrieve and use the first name of the actor with ID 8 without hardcoding any names, adhering to the requirement of the question.\n"
     ]
    }
   ],
   "source": [
    "prompt = \"\"\"Find the names (first and last) of all the actors and costumers whose first \n",
    "            name is the same as the first name of the actor with ID 8. \n",
    "            Do not return the actor with ID 8 him. Note that you cannot\n",
    "            use the name of the actor with ID 8 as a constant (only the ID). \n",
    "            There is more than one way to solve\n",
    "            this question, but you need to provide only one solution.\n",
    "            \"\"\"\n",
    "\n",
    "response = get_sql_response(prompt)\n",
    "\n",
    "print(response)"
   ]
  },
  {
   "cell_type": "code",
   "execution_count": null,
   "id": "32f9aedf",
   "metadata": {},
   "outputs": [],
   "source": []
  }
 ],
 "metadata": {
  "kernelspec": {
   "display_name": "virtual",
   "language": "python",
   "name": "virtual"
  },
  "language_info": {
   "codemirror_mode": {
    "name": "ipython",
    "version": 3
   },
   "file_extension": ".py",
   "mimetype": "text/x-python",
   "name": "python",
   "nbconvert_exporter": "python",
   "pygments_lexer": "ipython3",
   "version": "3.10.14"
  },
  "toc": {
   "base_numbering": 1,
   "nav_menu": {},
   "number_sections": false,
   "sideBar": true,
   "skip_h1_title": false,
   "title_cell": "Table of Contents",
   "title_sidebar": "Contents",
   "toc_cell": false,
   "toc_position": {
    "height": "508px",
    "left": "93px",
    "top": "0px",
    "width": "268.8px"
   },
   "toc_section_display": true,
   "toc_window_display": false
  }
 },
 "nbformat": 4,
 "nbformat_minor": 5
}
