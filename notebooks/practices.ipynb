{
 "cells": [
  {
   "cell_type": "code",
   "execution_count": 1,
   "id": "33650681",
   "metadata": {},
   "outputs": [],
   "source": [
    "from chat import get_sql_response"
   ]
  },
  {
   "cell_type": "markdown",
   "id": "3791df40",
   "metadata": {},
   "source": [
    "# Q1"
   ]
  },
  {
   "cell_type": "code",
   "execution_count": 2,
   "id": "ca60022b",
   "metadata": {},
   "outputs": [
    {
     "name": "stdout",
     "output_type": "stream",
     "text": [
      "The actors with the first name \"Scarlett\" are:\n",
      "\n",
      "1. Scarlett Damon\n",
      "2. Scarlett Bening\n"
     ]
    }
   ],
   "source": [
    "prompt = \"Which actors have the first name ‘Scarlett’?\"\n",
    "\n",
    "response = get_sql_response(prompt)\n",
    "\n",
    "print(response)"
   ]
  },
  {
   "cell_type": "markdown",
   "id": "2be94792",
   "metadata": {},
   "source": [
    "# Q2"
   ]
  },
  {
   "cell_type": "code",
   "execution_count": 3,
   "id": "b084aacf",
   "metadata": {},
   "outputs": [
    {
     "name": "stdout",
     "output_type": "stream",
     "text": [
      "The actors with the last name 'Johansson' are:\n",
      "\n",
      "1. MATTHEW JOHANSSON\n",
      "2. RAY JOHANSSON\n",
      "3. ALBERT JOHANSSON\n"
     ]
    }
   ],
   "source": [
    "prompt = \"Which actors have the last name ‘Johansson’?\"\n",
    "\n",
    "response = get_sql_response(prompt)\n",
    "\n",
    "print(response)"
   ]
  },
  {
   "cell_type": "markdown",
   "id": "2d3404ee",
   "metadata": {},
   "source": [
    "# Q3"
   ]
  },
  {
   "cell_type": "code",
   "execution_count": 4,
   "id": "fee91a14",
   "metadata": {},
   "outputs": [
    {
     "name": "stdout",
     "output_type": "stream",
     "text": [
      "Based on the provided context, there are 121 distinct actors' last names.\n"
     ]
    }
   ],
   "source": [
    "prompt = \"How many distinct actors last names are there?\"\n",
    "\n",
    "response = get_sql_response(prompt)\n",
    "\n",
    "print(response)"
   ]
  },
  {
   "cell_type": "markdown",
   "id": "74b662d0",
   "metadata": {},
   "source": [
    "# Q4"
   ]
  },
  {
   "cell_type": "code",
   "execution_count": 5,
   "id": "5523e2ce",
   "metadata": {},
   "outputs": [
    {
     "name": "stdout",
     "output_type": "stream",
     "text": [
      "The provided context consists of a list of last names with their corresponding index numbers. From the context given, it appears each last name is unique and listed once. Therefore, all last names in the list are not repeated.\n"
     ]
    }
   ],
   "source": [
    "prompt = \"Which last names are not repeated?\"\n",
    "\n",
    "response = get_sql_response(prompt)\n",
    "\n",
    "print(response)"
   ]
  },
  {
   "cell_type": "markdown",
   "id": "7d12b0d3",
   "metadata": {},
   "source": [
    "# Q5"
   ]
  },
  {
   "cell_type": "code",
   "execution_count": 6,
   "id": "51890e93",
   "metadata": {},
   "outputs": [
    {
     "name": "stdout",
     "output_type": "stream",
     "text": [
      "The last names that appear more than once in the given context are:\n",
      "\n",
      "- KILMER\n",
      "- TEMPLE\n",
      "- NOLTE\n",
      "- ZELLWEGER\n",
      "- BERRY\n",
      "\n",
      "Each of these last names has a count greater than one, as indicated in the \"count\" column of the table.\n"
     ]
    }
   ],
   "source": [
    "prompt = \"Which last names appear more than once?\"\n",
    "\n",
    "response = get_sql_response(prompt)\n",
    "\n",
    "print(response)"
   ]
  },
  {
   "cell_type": "markdown",
   "id": "ac3efe5e",
   "metadata": {},
   "source": [
    "# Q6"
   ]
  },
  {
   "cell_type": "code",
   "execution_count": 7,
   "id": "2027400c",
   "metadata": {},
   "outputs": [
    {
     "name": "stdout",
     "output_type": "stream",
     "text": [
      "Based on the provided context, the actor Gina Degeneres has appeared in 42 films. Since Gina Degeneres is the only actor mentioned in the context, she has appeared in the most films according to the given data.\n"
     ]
    }
   ],
   "source": [
    "prompt = \"Which actor has appeared in the most films?\"\n",
    "\n",
    "response = get_sql_response(prompt)\n",
    "\n",
    "print(response)"
   ]
  },
  {
   "cell_type": "markdown",
   "id": "b95990a3",
   "metadata": {},
   "source": [
    "# Q7"
   ]
  },
  {
   "cell_type": "code",
   "execution_count": 8,
   "id": "c27963c7",
   "metadata": {},
   "outputs": [
    {
     "name": "stdout",
     "output_type": "stream",
     "text": [
      "Based on the information provided in the table, the film \"ACADEMY DINOSAUR\" has a rental date but no return date listed. This suggests that the movie is currently rented out and has not been returned yet. Therefore, \"ACADEMY DINOSAUR\" is not available for rent from Store 1 or any other store until it is returned.\n"
     ]
    }
   ],
   "source": [
    "prompt = \"Is ‘Academy Dinosaur’ available for rent from Store 1?\"\n",
    "\n",
    "response = get_sql_response(prompt)\n",
    "\n",
    "print(response)"
   ]
  },
  {
   "cell_type": "markdown",
   "id": "fbe9c652",
   "metadata": {},
   "source": [
    "# Q8"
   ]
  },
  {
   "cell_type": "code",
   "execution_count": 9,
   "id": "37485ca3",
   "metadata": {},
   "outputs": [
    {
     "name": "stdout",
     "output_type": "stream",
     "text": [
      "The context provided does not contain any specific information regarding \"Academy Dinosaur\" or any comprehensible date format. The number in the return_date column \"1.12112e+18\" appears to be a large number in scientific notation and does not provide any meaningful date information.\n",
      "\n",
      "To accurately answer your question, I would need additional context or clarification that clearly states the return date for 'Academy Dinosaur' in a recognizable date format. Please provide further details or check the source of your data.\n"
     ]
    }
   ],
   "source": [
    "prompt = \"When is ‘Academy Dinosaur’ due?\"\n",
    "\n",
    "response = get_sql_response(prompt)\n",
    "\n",
    "print(response)"
   ]
  },
  {
   "cell_type": "markdown",
   "id": "3e9fa3a1",
   "metadata": {},
   "source": [
    "# Q9"
   ]
  },
  {
   "cell_type": "code",
   "execution_count": 10,
   "id": "f49980a4",
   "metadata": {},
   "outputs": [
    {
     "name": "stdout",
     "output_type": "stream",
     "text": [
      "The average running time of all the films given in the context is 115.272 minutes.\n"
     ]
    }
   ],
   "source": [
    "prompt = \"What is that average running time of all the films?\"\n",
    "\n",
    "response = get_sql_response(prompt)\n",
    "\n",
    "print(response)"
   ]
  },
  {
   "cell_type": "markdown",
   "id": "21da12c5",
   "metadata": {},
   "source": [
    "# Q10"
   ]
  },
  {
   "cell_type": "code",
   "execution_count": 11,
   "id": "7b4ab3cb",
   "metadata": {},
   "outputs": [
    {
     "name": "stdout",
     "output_type": "stream",
     "text": [
      "The names of all the languages sorted alphabetically are:\n",
      "\n",
      "1. English\n",
      "2. French\n",
      "3. German\n",
      "4. Italian\n",
      "5. Japanese\n"
     ]
    }
   ],
   "source": [
    "prompt = \"What are the names of all the languages sorted alphabetically?\"\n",
    "\n",
    "response = get_sql_response(prompt)\n",
    "\n",
    "print(response)"
   ]
  },
  {
   "cell_type": "markdown",
   "id": "e08e8ce5",
   "metadata": {},
   "source": [
    "# Q11"
   ]
  },
  {
   "cell_type": "code",
   "execution_count": 12,
   "id": "8a4e3678",
   "metadata": {},
   "outputs": [
    {
     "name": "stdout",
     "output_type": "stream",
     "text": [
      "Based on the provided table, the task is to find all film categories with the number of films between 55 and 65 (inclusive) and return the names of those categories along with the number of films, sorted by the number of films.\n",
      "\n",
      "Here are the categories that fall within the specified range:\n",
      "\n",
      "1. Horror: 56 films\n",
      "2. Classics: 57 films\n",
      "3. Travel: 57 films\n",
      "4. Comedy: 58 films\n",
      "5. Children: 60 films\n",
      "6. Games: 61 films\n",
      "7. Sci-Fi: 61 films\n",
      "8. Drama: 62 films\n",
      "9. New: 63 films\n",
      "10. Action: 64 films\n",
      "\n",
      "Sorted by the number of films, the list is:\n",
      "\n",
      "| category_name | num_films |\n",
      "|---------------|-----------|\n",
      "| Horror        |        56 |\n",
      "| Classics      |        57 |\n",
      "| Travel        |        57 |\n",
      "| Comedy        |        58 |\n",
      "| Children      |        60 |\n",
      "| Games         |        61 |\n",
      "| Sci-Fi        |        61 |\n",
      "| Drama         |        62 |\n",
      "| New           |        63 |\n",
      "| Action        |        64 |\n",
      "\n",
      "These are the categories and their corresponding number of films, sorted from the fewest to the most films within the specified range.\n"
     ]
    }
   ],
   "source": [
    "prompt = \"\"\"Find all the film categories in which there are between 55 and 65 films. \n",
    "            Return the names of these\n",
    "            categories and the number of films per category, \n",
    "            sorted by the number of films.\"\"\"\n",
    "\n",
    "response = get_sql_response(prompt)\n",
    "\n",
    "print(response)"
   ]
  },
  {
   "cell_type": "markdown",
   "id": "94738aa9",
   "metadata": {},
   "source": [
    "# Q12"
   ]
  },
  {
   "cell_type": "code",
   "execution_count": 13,
   "id": "203da95b",
   "metadata": {},
   "outputs": [
    {
     "name": "stdout",
     "output_type": "stream",
     "text": [
      "To determine the number of film categories where the average difference between the film replacement cost and the rental rate is larger than 17, we would typically need additional data, specifically:\n",
      "\n",
      "1. The replacement cost of each film.\n",
      "2. The rental rate of each film.\n",
      "3. The category of each film.\n",
      "\n",
      "However, since the provided context only includes a table with indices (0 to 4) and a column labeled \"num_categories\" showing numbers (35, 31, 30, 30, 22), it seems there may be a misunderstanding or misalignment between the context and the question.\n",
      "\n",
      "If the question is based on a hypothetical or assumed dataset where calculations can be performed to determine the average differences between film replacement costs and rental rates for different categories, then here's how we can approach it:\n",
      "\n",
      "1. **Data Acquisition**: We need a comprehensive dataset detailing films’ replacement costs, rental rates, and their categories.\n",
      "2. **Data Analysis**:\n",
      "   - Calculate the difference between replacement cost and rental rate for each film.\n",
      "   - Group these films by their category.\n",
      "   - Compute the average of these differences for each category.\n",
      "3. **Filtering the Results**:\n",
      "   - Count how many categories have an average difference greater than 17.\n",
      "\n",
      "Given the nature of the question, it seems it is intended for a scenario where such data is available, and such calculations are feasible. However, without actual data on costs, rates, and categories, I can't provide a specific number of categories that meet the criterion. \n",
      "\n",
      "To answer your question appropriately, please ensure the dataset includes the necessary financial details of the films and their categorizations, or clarify if the given table is meant to represent these calculations indirectly. Without this, the question cannot be accurately answered with the provided information.\n"
     ]
    }
   ],
   "source": [
    "prompt = \"\"\"In how many film categories is the average difference between the \n",
    "            film replacement cost and the rental rate larger than 17?\"\"\"\n",
    "\n",
    "response = get_sql_response(prompt)\n",
    "\n",
    "print(response)"
   ]
  },
  {
   "cell_type": "markdown",
   "id": "aa266a67",
   "metadata": {},
   "source": [
    "# Q13"
   ]
  },
  {
   "cell_type": "code",
   "execution_count": null,
   "id": "c0091ae2",
   "metadata": {},
   "outputs": [],
   "source": [
    "prompt = \"\"\"Find the names (first and last) of all the actors and costumers whose first \n",
    "            name is the same as the first name of the actor with ID 8. \n",
    "            Do not return the actor with ID 8 him. Note that you cannot\n",
    "            use the name of the actor with ID 8 as a constant (only the ID). \n",
    "            There is more than one way to solve\n",
    "            this question, but you need to provide only one solution.\n",
    "            \"\"\"\n",
    "\n",
    "response = get_sql_response(prompt)\n",
    "\n",
    "print(response)"
   ]
  },
  {
   "cell_type": "code",
   "execution_count": null,
   "id": "5add5183",
   "metadata": {},
   "outputs": [],
   "source": []
  }
 ],
 "metadata": {
  "kernelspec": {
   "display_name": "virtual",
   "language": "python",
   "name": "virtual"
  },
  "language_info": {
   "codemirror_mode": {
    "name": "ipython",
    "version": 3
   },
   "file_extension": ".py",
   "mimetype": "text/x-python",
   "name": "python",
   "nbconvert_exporter": "python",
   "pygments_lexer": "ipython3",
   "version": "3.10.14"
  },
  "toc": {
   "base_numbering": 1,
   "nav_menu": {},
   "number_sections": false,
   "sideBar": true,
   "skip_h1_title": false,
   "title_cell": "Table of Contents",
   "title_sidebar": "Contents",
   "toc_cell": false,
   "toc_position": {
    "height": "508px",
    "left": "93px",
    "top": "0px",
    "width": "268.8px"
   },
   "toc_section_display": true,
   "toc_window_display": false
  }
 },
 "nbformat": 4,
 "nbformat_minor": 5
}
