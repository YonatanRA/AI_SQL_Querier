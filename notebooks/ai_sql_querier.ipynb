{
 "cells": [
  {
   "cell_type": "markdown",
   "id": "d9c413ee",
   "metadata": {},
   "source": [
    "# AI SQL Querier"
   ]
  },
  {
   "cell_type": "markdown",
   "id": "980dd739",
   "metadata": {
    "toc": true
   },
   "source": [
    "<h1>Table of Contents<span class=\"tocSkip\"></span></h1>\n",
    "<div class=\"toc\"><ul class=\"toc-item\"><li><span><a href=\"#1.-OpenAI-API-KEY\" data-toc-modified-id=\"1.-OpenAI-API-KEY-1\">1. OpenAI API KEY</a></span></li><li><span><a href=\"#2.-SQL-Connection\" data-toc-modified-id=\"2.-SQL-Connection-2\">2. SQL Connection</a></span></li><li><span><a href=\"#3.-Load-SQL-DB-in-LangChain\" data-toc-modified-id=\"3.-Load-SQL-DB-in-LangChain-3\">3. Load SQL DB in LangChain</a></span></li><li><span><a href=\"#4.-Input-LLM\" data-toc-modified-id=\"4.-Input-LLM-4\">4. Input LLM</a></span></li><li><span><a href=\"#5.-SQL-Chain\" data-toc-modified-id=\"5.-SQL-Chain-5\">5. SQL Chain</a></span></li><li><span><a href=\"#6.-Executing-generated-SQL-query\" data-toc-modified-id=\"6.-Executing-generated-SQL-query-6\">6. Executing generated SQL query</a></span></li><li><span><a href=\"#7.-Cleaning-response\" data-toc-modified-id=\"7.-Cleaning-response-7\">7. Cleaning response</a></span></li><li><span><a href=\"#8.-Output-LLM\" data-toc-modified-id=\"8.-Output-LLM-8\">8. Output LLM</a></span></li><li><span><a href=\"#9.-Code-Summary\" data-toc-modified-id=\"9.-Code-Summary-9\">9. Code Summary</a></span></li></ul></div>"
   ]
  },
  {
   "cell_type": "markdown",
   "id": "53ec696b",
   "metadata": {},
   "source": [
    "## 1. OpenAI API KEY\n",
    "\n",
    "To carry out this project, we will need an API KEY from OpenAI to use the GPT-4 Turbo model. This API KEY can be obtained at https://platform.openai.com/api-keys. It is only displayed once, so it must be saved at the moment it is obtained. Of course, we will need to create an account to get it.\n",
    "\n",
    "We store the API KEY in a `.env` file to load it with the dotenv library and use it as an environment variable. This file is added to the `.gitignore` to ensure that it cannot be seen if we upload the code to GitHub, for example."
   ]
  },
  {
   "cell_type": "code",
   "execution_count": 1,
   "id": "a1ad0de9",
   "metadata": {},
   "outputs": [],
   "source": [
    "# removing deprecation warnings\n",
    "\n",
    "import warnings\n",
    "warnings.filterwarnings(\"ignore\")"
   ]
  },
  {
   "cell_type": "code",
   "execution_count": 2,
   "id": "aa7bf4f0",
   "metadata": {},
   "outputs": [],
   "source": [
    "# import API KEY\n",
    "\n",
    "import os                           # operating system library\n",
    "from dotenv import load_dotenv      # load environment variables  \n",
    "\n",
    "\n",
    "load_dotenv()\n",
    "\n",
    "\n",
    "OPENAI_API_KEY = os.getenv(\"OPENAI_API_KEY\")"
   ]
  },
  {
   "cell_type": "markdown",
   "id": "c4e9f619",
   "metadata": {},
   "source": [
    "## 2. SQL Connection\n",
    "\n",
    "We make the SQL connection by creating the URI, with the language used, user, password, server and database. These details will change depending on the database used and the user credentials."
   ]
  },
  {
   "cell_type": "code",
   "execution_count": 3,
   "id": "8ff22807",
   "metadata": {},
   "outputs": [],
   "source": [
    "from sqlalchemy import create_engine"
   ]
  },
  {
   "cell_type": "code",
   "execution_count": 4,
   "id": "04833bb5",
   "metadata": {},
   "outputs": [],
   "source": [
    "# server and user credentials \n",
    "\n",
    "LANGUAGE = \"mysql+pymysql\"\n",
    "\n",
    "USER = \"root\"\n",
    "\n",
    "PASSWORD = \"password\"\n",
    "\n",
    "SERVER = \"localhost:3306\"\n",
    "\n",
    "DATABASE = \"sakila\""
   ]
  },
  {
   "cell_type": "code",
   "execution_count": 5,
   "id": "c8e12809",
   "metadata": {},
   "outputs": [],
   "source": [
    "URI = f\"{LANGUAGE}://{USER}:{PASSWORD}@{SERVER}/{DATABASE}\""
   ]
  },
  {
   "cell_type": "code",
   "execution_count": 6,
   "id": "edd169e9",
   "metadata": {},
   "outputs": [],
   "source": [
    "# database connection\n",
    "\n",
    "cursor = create_engine(URI).connect()"
   ]
  },
  {
   "cell_type": "code",
   "execution_count": 7,
   "id": "96847fbe",
   "metadata": {},
   "outputs": [
    {
     "data": {
      "text/plain": [
       "['actor',\n",
       " 'address',\n",
       " 'category',\n",
       " 'city',\n",
       " 'country',\n",
       " 'customer',\n",
       " 'film',\n",
       " 'film_actor',\n",
       " 'film_category',\n",
       " 'film_text',\n",
       " 'inventory',\n",
       " 'language',\n",
       " 'payment',\n",
       " 'rental',\n",
       " 'staff',\n",
       " 'store']"
      ]
     },
     "execution_count": 7,
     "metadata": {},
     "output_type": "execute_result"
    }
   ],
   "source": [
    "# show all database tables\n",
    "\n",
    "tables = cursor.execute(\"show tables;\").fetchall()\n",
    "\n",
    "tables = [e[0] for e in tables]\n",
    "\n",
    "tables"
   ]
  },
  {
   "cell_type": "markdown",
   "id": "e7fe0403",
   "metadata": {},
   "source": [
    "## 3. Load SQL DB in LangChain\n",
    "\n",
    "We create the SQL chain for feeding the LLM later."
   ]
  },
  {
   "cell_type": "code",
   "execution_count": 8,
   "id": "0bd78028",
   "metadata": {},
   "outputs": [],
   "source": [
    "from langchain import SQLDatabase"
   ]
  },
  {
   "cell_type": "code",
   "execution_count": 9,
   "id": "7f3c8c33",
   "metadata": {},
   "outputs": [],
   "source": [
    "db = SQLDatabase.from_uri(URI,\n",
    "                          sample_rows_in_table_info=1, \n",
    "                          include_tables=tables)\n"
   ]
  },
  {
   "cell_type": "code",
   "execution_count": 10,
   "id": "4fa45a42",
   "metadata": {
    "scrolled": false
   },
   "outputs": [
    {
     "name": "stdout",
     "output_type": "stream",
     "text": [
      "\n",
      "CREATE TABLE actor (\n",
      "\tactor_id SMALLINT UNSIGNED NOT NULL AUTO_INCREMENT, \n",
      "\tfirst_name VARCHAR(45) NOT NULL, \n",
      "\tlast_name VARCHAR(45) NOT NULL, \n",
      "\tlast_update TIMESTAMP NOT NULL DEFAULT CURRENT_TIMESTAMP ON UPDATE CURRENT_TIMESTAMP, \n",
      "\tPRIMARY KEY (actor_id)\n",
      ")COLLATE utf8mb4_0900_ai_ci DEFAULT CHARSET=utf8mb4 ENGINE=InnoDB\n",
      "\n",
      "/*\n",
      "1 rows from actor table:\n",
      "actor_id\tfirst_name\tlast_name\tlast_update\n",
      "1\tPENELOPE\tGUINESS\t2006-02-15 04:34:33\n",
      "*/\n",
      "\n",
      "\n",
      "CREATE TABLE address (\n",
      "\taddress_id SMALLINT UNSIGNED NOT NULL AUTO_INCREMENT, \n",
      "\taddress VARCHAR(50) NOT NULL, \n",
      "\taddress2 VARCHAR(50), \n",
      "\tdistrict VARCHAR(20) NOT NULL, \n",
      "\tcity_id SMALLINT UNSIGNED NOT NULL, \n",
      "\tpostal_code VARCHAR(10), \n",
      "\tphone VARCHAR(20) NOT NULL, \n",
      "\tlast_update TIMESTAMP NOT NULL DEFAULT CURRENT_TIMESTAMP ON UPDATE CURRENT_TIMESTAMP, \n",
      "\tPRIMARY KEY (address_id), \n",
      "\tCONSTRAINT fk_address_city FOREIGN KEY(city_id) REFERENCES city (city_id) ON DELETE RESTRICT ON UPDATE CASCADE\n",
      ")COLLATE utf8mb4_0900_ai_ci DEFAULT CHARSET=utf8mb4 ENGINE=InnoDB\n",
      "\n",
      "/*\n",
      "1 rows from address table:\n",
      "address_id\taddress\taddress2\tdistrict\tcity_id\tpostal_code\tphone\tlast_update\n",
      "1\t47 MySakila Drive\tNone\tAlberta\t300\t\t\t2014-09-25 22:30:27\n",
      "*/\n",
      "\n",
      "\n",
      "CREATE TABLE category (\n",
      "\tcategory_id TINYINT UNSIGNED NOT NULL AUTO_INCREMENT, \n",
      "\tname VARCHAR(25) NOT NULL, \n",
      "\tlast_update TIMESTAMP NOT NULL DEFAULT CURRENT_TIMESTAMP ON UPDATE CURRENT_TIMESTAMP, \n",
      "\tPRIMARY KEY (category_id)\n",
      ")COLLATE utf8mb4_0900_ai_ci DEFAULT CHARSET=utf8mb4 ENGINE=InnoDB\n",
      "\n",
      "/*\n",
      "1 rows from category table:\n",
      "category_id\tname\tlast_update\n",
      "1\tAction\t2006-02-15 04:46:27\n",
      "*/\n",
      "\n",
      "\n",
      "CREATE TABLE city (\n",
      "\tcity_id SMALLINT UNSIGNED NOT NULL AUTO_INCREMENT, \n",
      "\tcity VARCHAR(50) NOT NULL, \n",
      "\tcountry_id SMALLINT UNSIGNED NOT NULL, \n",
      "\tlast_update TIMESTAMP NOT NULL DEFAULT CURRENT_TIMESTAMP ON UPDATE CURRENT_TIMESTAMP, \n",
      "\tPRIMARY KEY (city_id), \n",
      "\tCONSTRAINT fk_city_country FOREIGN KEY(country_id) REFERENCES country (country_id) ON DELETE RESTRICT ON UPDATE CASCADE\n",
      ")COLLATE utf8mb4_0900_ai_ci DEFAULT CHARSET=utf8mb4 ENGINE=InnoDB\n",
      "\n",
      "/*\n",
      "1 rows from city table:\n",
      "city_id\tcity\tcountry_id\tlast_update\n",
      "1\tA Coruña (La Coruña)\t87\t2006-02-15 04:45:25\n",
      "*/\n",
      "\n",
      "\n",
      "CREATE TABLE country (\n",
      "\tcountry_id SMALLINT UNSIGNED NOT NULL AUTO_INCREMENT, \n",
      "\tcountry VARCHAR(50) NOT NULL, \n",
      "\tlast_update TIMESTAMP NOT NULL DEFAULT CURRENT_TIMESTAMP ON UPDATE CURRENT_TIMESTAMP, \n",
      "\tPRIMARY KEY (country_id)\n",
      ")COLLATE utf8mb4_0900_ai_ci DEFAULT CHARSET=utf8mb4 ENGINE=InnoDB\n",
      "\n",
      "/*\n",
      "1 rows from country table:\n",
      "country_id\tcountry\tlast_update\n",
      "1\tAfghanistan\t2006-02-15 04:44:00\n",
      "*/\n",
      "\n",
      "\n",
      "CREATE TABLE customer (\n",
      "\tcustomer_id SMALLINT UNSIGNED NOT NULL AUTO_INCREMENT, \n",
      "\tstore_id TINYINT UNSIGNED NOT NULL, \n",
      "\tfirst_name VARCHAR(45) NOT NULL, \n",
      "\tlast_name VARCHAR(45) NOT NULL, \n",
      "\temail VARCHAR(50), \n",
      "\taddress_id SMALLINT UNSIGNED NOT NULL, \n",
      "\tactive TINYINT(1) NOT NULL DEFAULT '1', \n",
      "\tcreate_date DATETIME NOT NULL, \n",
      "\tlast_update TIMESTAMP NULL DEFAULT CURRENT_TIMESTAMP ON UPDATE CURRENT_TIMESTAMP, \n",
      "\tPRIMARY KEY (customer_id), \n",
      "\tCONSTRAINT fk_customer_address FOREIGN KEY(address_id) REFERENCES address (address_id) ON DELETE RESTRICT ON UPDATE CASCADE, \n",
      "\tCONSTRAINT fk_customer_store FOREIGN KEY(store_id) REFERENCES store (store_id) ON DELETE RESTRICT ON UPDATE CASCADE\n",
      ")COLLATE utf8mb4_0900_ai_ci DEFAULT CHARSET=utf8mb4 ENGINE=InnoDB\n",
      "\n",
      "/*\n",
      "1 rows from customer table:\n",
      "customer_id\tstore_id\tfirst_name\tlast_name\temail\taddress_id\tactive\tcreate_date\tlast_update\n",
      "1\t1\tMARY\tSMITH\tMARY.SMITH@sakilacustomer.org\t5\t1\t2006-02-14 22:04:36\t2006-02-15 04:57:20\n",
      "*/\n",
      "\n",
      "\n",
      "CREATE TABLE film (\n",
      "\tfilm_id SMALLINT UNSIGNED NOT NULL AUTO_INCREMENT, \n",
      "\ttitle VARCHAR(128) NOT NULL, \n",
      "\tdescription TEXT, \n",
      "\trelease_year YEAR, \n",
      "\tlanguage_id TINYINT UNSIGNED NOT NULL, \n",
      "\toriginal_language_id TINYINT UNSIGNED, \n",
      "\trental_duration TINYINT UNSIGNED NOT NULL DEFAULT '3', \n",
      "\trental_rate DECIMAL(4, 2) NOT NULL DEFAULT '4.99', \n",
      "\tlength SMALLINT UNSIGNED, \n",
      "\treplacement_cost DECIMAL(5, 2) NOT NULL DEFAULT '19.99', \n",
      "\trating ENUM('G','PG','PG-13','R','NC-17') DEFAULT 'G', \n",
      "\tspecial_features SET('Trailers','Commentaries','Deleted Scenes','Behind the Scenes'), \n",
      "\tlast_update TIMESTAMP NOT NULL DEFAULT CURRENT_TIMESTAMP ON UPDATE CURRENT_TIMESTAMP, \n",
      "\tPRIMARY KEY (film_id), \n",
      "\tCONSTRAINT fk_film_language FOREIGN KEY(language_id) REFERENCES language (language_id) ON DELETE RESTRICT ON UPDATE CASCADE, \n",
      "\tCONSTRAINT fk_film_language_original FOREIGN KEY(original_language_id) REFERENCES language (language_id) ON DELETE RESTRICT ON UPDATE CASCADE\n",
      ")COLLATE utf8mb4_0900_ai_ci DEFAULT CHARSET=utf8mb4 ENGINE=InnoDB\n",
      "\n",
      "/*\n",
      "1 rows from film table:\n",
      "film_id\ttitle\tdescription\trelease_year\tlanguage_id\toriginal_language_id\trental_duration\trental_rate\tlength\treplacement_cost\trating\tspecial_features\tlast_update\n",
      "1\tACADEMY DINOSAUR\tA Epic Drama of a Feminist And a Mad Scientist who must Battle a Teacher in The Canadian Rockies\t2006\t1\tNone\t6\t0.99\t86\t20.99\tPG\t{'Deleted Scenes', 'Behind the Scenes'}\t2006-02-15 05:03:42\n",
      "*/\n",
      "\n",
      "\n",
      "CREATE TABLE film_actor (\n",
      "\tactor_id SMALLINT UNSIGNED NOT NULL, \n",
      "\tfilm_id SMALLINT UNSIGNED NOT NULL, \n",
      "\tlast_update TIMESTAMP NOT NULL DEFAULT CURRENT_TIMESTAMP ON UPDATE CURRENT_TIMESTAMP, \n",
      "\tPRIMARY KEY (actor_id, film_id), \n",
      "\tCONSTRAINT fk_film_actor_actor FOREIGN KEY(actor_id) REFERENCES actor (actor_id) ON DELETE RESTRICT ON UPDATE CASCADE, \n",
      "\tCONSTRAINT fk_film_actor_film FOREIGN KEY(film_id) REFERENCES film (film_id) ON DELETE RESTRICT ON UPDATE CASCADE\n",
      ")COLLATE utf8mb4_0900_ai_ci DEFAULT CHARSET=utf8mb4 ENGINE=InnoDB\n",
      "\n",
      "/*\n",
      "1 rows from film_actor table:\n",
      "actor_id\tfilm_id\tlast_update\n",
      "1\t1\t2006-02-15 05:05:03\n",
      "*/\n",
      "\n",
      "\n",
      "CREATE TABLE film_category (\n",
      "\tfilm_id SMALLINT UNSIGNED NOT NULL, \n",
      "\tcategory_id TINYINT UNSIGNED NOT NULL, \n",
      "\tlast_update TIMESTAMP NOT NULL DEFAULT CURRENT_TIMESTAMP ON UPDATE CURRENT_TIMESTAMP, \n",
      "\tPRIMARY KEY (film_id, category_id), \n",
      "\tCONSTRAINT fk_film_category_category FOREIGN KEY(category_id) REFERENCES category (category_id) ON DELETE RESTRICT ON UPDATE CASCADE, \n",
      "\tCONSTRAINT fk_film_category_film FOREIGN KEY(film_id) REFERENCES film (film_id) ON DELETE RESTRICT ON UPDATE CASCADE\n",
      ")COLLATE utf8mb4_0900_ai_ci DEFAULT CHARSET=utf8mb4 ENGINE=InnoDB\n",
      "\n",
      "/*\n",
      "1 rows from film_category table:\n",
      "film_id\tcategory_id\tlast_update\n",
      "1\t6\t2006-02-15 05:07:09\n",
      "*/\n",
      "\n",
      "\n",
      "CREATE TABLE film_text (\n",
      "\tfilm_id SMALLINT UNSIGNED NOT NULL, \n",
      "\ttitle VARCHAR(255) NOT NULL, \n",
      "\tdescription TEXT, \n",
      "\tPRIMARY KEY (film_id)\n",
      ")COLLATE utf8mb4_0900_ai_ci DEFAULT CHARSET=utf8mb4 ENGINE=InnoDB\n",
      "\n",
      "/*\n",
      "1 rows from film_text table:\n",
      "film_id\ttitle\tdescription\n",
      "1\tACADEMY DINOSAUR\tA Epic Drama of a Feminist And a Mad Scientist who must Battle a Teacher in The Canadian Rockies\n",
      "*/\n",
      "\n",
      "\n",
      "CREATE TABLE inventory (\n",
      "\tinventory_id MEDIUMINT UNSIGNED NOT NULL AUTO_INCREMENT, \n",
      "\tfilm_id SMALLINT UNSIGNED NOT NULL, \n",
      "\tstore_id TINYINT UNSIGNED NOT NULL, \n",
      "\tlast_update TIMESTAMP NOT NULL DEFAULT CURRENT_TIMESTAMP ON UPDATE CURRENT_TIMESTAMP, \n",
      "\tPRIMARY KEY (inventory_id), \n",
      "\tCONSTRAINT fk_inventory_film FOREIGN KEY(film_id) REFERENCES film (film_id) ON DELETE RESTRICT ON UPDATE CASCADE, \n",
      "\tCONSTRAINT fk_inventory_store FOREIGN KEY(store_id) REFERENCES store (store_id) ON DELETE RESTRICT ON UPDATE CASCADE\n",
      ")COLLATE utf8mb4_0900_ai_ci DEFAULT CHARSET=utf8mb4 ENGINE=InnoDB\n",
      "\n",
      "/*\n",
      "1 rows from inventory table:\n",
      "inventory_id\tfilm_id\tstore_id\tlast_update\n",
      "1\t1\t1\t2006-02-15 05:09:17\n",
      "*/\n",
      "\n",
      "\n",
      "CREATE TABLE language (\n",
      "\tlanguage_id TINYINT UNSIGNED NOT NULL AUTO_INCREMENT, \n",
      "\tname CHAR(20) NOT NULL, \n",
      "\tlast_update TIMESTAMP NOT NULL DEFAULT CURRENT_TIMESTAMP ON UPDATE CURRENT_TIMESTAMP, \n",
      "\tPRIMARY KEY (language_id)\n",
      ")COLLATE utf8mb4_0900_ai_ci DEFAULT CHARSET=utf8mb4 ENGINE=InnoDB\n",
      "\n",
      "/*\n",
      "1 rows from language table:\n",
      "language_id\tname\tlast_update\n",
      "1\tEnglish\t2006-02-15 05:02:19\n",
      "*/\n",
      "\n",
      "\n",
      "CREATE TABLE payment (\n",
      "\tpayment_id SMALLINT UNSIGNED NOT NULL AUTO_INCREMENT, \n",
      "\tcustomer_id SMALLINT UNSIGNED NOT NULL, \n",
      "\tstaff_id TINYINT UNSIGNED NOT NULL, \n",
      "\trental_id INTEGER, \n",
      "\tamount DECIMAL(5, 2) NOT NULL, \n",
      "\tpayment_date DATETIME NOT NULL, \n",
      "\tlast_update TIMESTAMP NULL DEFAULT CURRENT_TIMESTAMP ON UPDATE CURRENT_TIMESTAMP, \n",
      "\tPRIMARY KEY (payment_id), \n",
      "\tCONSTRAINT fk_payment_customer FOREIGN KEY(customer_id) REFERENCES customer (customer_id) ON DELETE RESTRICT ON UPDATE CASCADE, \n",
      "\tCONSTRAINT fk_payment_rental FOREIGN KEY(rental_id) REFERENCES rental (rental_id) ON DELETE SET NULL ON UPDATE CASCADE, \n",
      "\tCONSTRAINT fk_payment_staff FOREIGN KEY(staff_id) REFERENCES staff (staff_id) ON DELETE RESTRICT ON UPDATE CASCADE\n",
      ")COLLATE utf8mb4_0900_ai_ci DEFAULT CHARSET=utf8mb4 ENGINE=InnoDB\n",
      "\n",
      "/*\n",
      "1 rows from payment table:\n",
      "payment_id\tcustomer_id\tstaff_id\trental_id\tamount\tpayment_date\tlast_update\n",
      "1\t1\t1\t76\t2.99\t2005-05-25 11:30:37\t2006-02-15 22:12:30\n",
      "*/\n",
      "\n",
      "\n",
      "CREATE TABLE rental (\n",
      "\trental_id INTEGER NOT NULL AUTO_INCREMENT, \n",
      "\trental_date DATETIME NOT NULL, \n",
      "\tinventory_id MEDIUMINT UNSIGNED NOT NULL, \n",
      "\tcustomer_id SMALLINT UNSIGNED NOT NULL, \n",
      "\treturn_date DATETIME, \n",
      "\tstaff_id TINYINT UNSIGNED NOT NULL, \n",
      "\tlast_update TIMESTAMP NOT NULL DEFAULT CURRENT_TIMESTAMP ON UPDATE CURRENT_TIMESTAMP, \n",
      "\tPRIMARY KEY (rental_id), \n",
      "\tCONSTRAINT fk_rental_customer FOREIGN KEY(customer_id) REFERENCES customer (customer_id) ON DELETE RESTRICT ON UPDATE CASCADE, \n",
      "\tCONSTRAINT fk_rental_inventory FOREIGN KEY(inventory_id) REFERENCES inventory (inventory_id) ON DELETE RESTRICT ON UPDATE CASCADE, \n",
      "\tCONSTRAINT fk_rental_staff FOREIGN KEY(staff_id) REFERENCES staff (staff_id) ON DELETE RESTRICT ON UPDATE CASCADE\n",
      ")COLLATE utf8mb4_0900_ai_ci DEFAULT CHARSET=utf8mb4 ENGINE=InnoDB\n",
      "\n",
      "/*\n",
      "1 rows from rental table:\n",
      "rental_id\trental_date\tinventory_id\tcustomer_id\treturn_date\tstaff_id\tlast_update\n",
      "1\t2005-05-24 22:53:30\t367\t130\t2005-05-26 22:04:30\t1\t2006-02-15 21:30:53\n",
      "*/\n",
      "\n",
      "\n",
      "CREATE TABLE staff (\n",
      "\tstaff_id TINYINT UNSIGNED NOT NULL AUTO_INCREMENT, \n",
      "\tfirst_name VARCHAR(45) NOT NULL, \n",
      "\tlast_name VARCHAR(45) NOT NULL, \n",
      "\taddress_id SMALLINT UNSIGNED NOT NULL, \n",
      "\tpicture BLOB, \n",
      "\temail VARCHAR(50), \n",
      "\tstore_id TINYINT UNSIGNED NOT NULL, \n",
      "\tactive TINYINT(1) NOT NULL DEFAULT '1', \n",
      "\tusername VARCHAR(16) NOT NULL, \n",
      "\tpassword VARCHAR(40) CHARACTER SET utf8mb4 COLLATE utf8mb4_bin, \n",
      "\tlast_update TIMESTAMP NOT NULL DEFAULT CURRENT_TIMESTAMP ON UPDATE CURRENT_TIMESTAMP, \n",
      "\tPRIMARY KEY (staff_id), \n",
      "\tCONSTRAINT fk_staff_address FOREIGN KEY(address_id) REFERENCES address (address_id) ON DELETE RESTRICT ON UPDATE CASCADE, \n",
      "\tCONSTRAINT fk_staff_store FOREIGN KEY(store_id) REFERENCES store (store_id) ON DELETE RESTRICT ON UPDATE CASCADE\n",
      ")COLLATE utf8mb4_0900_ai_ci DEFAULT CHARSET=utf8mb4 ENGINE=InnoDB\n",
      "\n",
      "/*\n",
      "1 rows from staff table:\n",
      "staff_id\tfirst_name\tlast_name\taddress_id\tpicture\temail\tstore_id\tactive\tusername\tpassword\tlast_update\n",
      "1\tMike\tHillyer\t3\tb'\\x89PNG\\r\\n\\x1a\\n\\x00\\x00\\x00\\rIHDR\\x00\\x00\\x00y\\x00\\x00\\x00u\\x08\\x02\\x00\\x00\\x00\\xe5Z\\xd9e\\x00\\x0\tMike.Hillyer@sakilastaff.com\t1\t1\tMike\t8cb2237d0679ca88db6464eac60da96345513964\t2006-02-15 03:57:16\n",
      "*/\n",
      "\n",
      "\n",
      "CREATE TABLE store (\n",
      "\tstore_id TINYINT UNSIGNED NOT NULL AUTO_INCREMENT, \n",
      "\tmanager_staff_id TINYINT UNSIGNED NOT NULL, \n",
      "\taddress_id SMALLINT UNSIGNED NOT NULL, \n",
      "\tlast_update TIMESTAMP NOT NULL DEFAULT CURRENT_TIMESTAMP ON UPDATE CURRENT_TIMESTAMP, \n",
      "\tPRIMARY KEY (store_id), \n",
      "\tCONSTRAINT fk_store_address FOREIGN KEY(address_id) REFERENCES address (address_id) ON DELETE RESTRICT ON UPDATE CASCADE, \n",
      "\tCONSTRAINT fk_store_staff FOREIGN KEY(manager_staff_id) REFERENCES staff (staff_id) ON DELETE RESTRICT ON UPDATE CASCADE\n",
      ")COLLATE utf8mb4_0900_ai_ci DEFAULT CHARSET=utf8mb4 ENGINE=InnoDB\n",
      "\n",
      "/*\n",
      "1 rows from store table:\n",
      "store_id\tmanager_staff_id\taddress_id\tlast_update\n",
      "1\t1\t1\t2006-02-15 04:57:12\n",
      "*/\n"
     ]
    }
   ],
   "source": [
    "# tables information\n",
    "\n",
    "print(db.table_info)"
   ]
  },
  {
   "cell_type": "markdown",
   "id": "a57c07d5",
   "metadata": {},
   "source": [
    "## 4. Input LLM\n",
    "\n",
    "We use an OpenAI model as input LLm. A temperature = 0 makes the model's responses more deterministic and repetitive, tending to select the most likely next word given the previous context, which is better for SQL queries generation."
   ]
  },
  {
   "cell_type": "code",
   "execution_count": 11,
   "id": "f5b7aad1",
   "metadata": {},
   "outputs": [],
   "source": [
    "from langchain_openai import OpenAI"
   ]
  },
  {
   "cell_type": "code",
   "execution_count": 12,
   "id": "ab5bb75c",
   "metadata": {},
   "outputs": [],
   "source": [
    "input_model = OpenAI(temperature=0)"
   ]
  },
  {
   "cell_type": "code",
   "execution_count": 13,
   "id": "ed95174f",
   "metadata": {},
   "outputs": [
    {
     "data": {
      "text/plain": [
       "'\\n\\nSQL (Structured Query Language) is a programming language used for managing and manipulating data stored in relational databases. It is used to create, retrieve, update, and delete data from databases, as well as to define and modify the structure of databases. SQL is a standard language that is used by many database management systems, making it a widely used and important tool for data management and analysis.'"
      ]
     },
     "execution_count": 13,
     "metadata": {},
     "output_type": "execute_result"
    }
   ],
   "source": [
    "# testing model\n",
    "\n",
    "input_model.invoke(\"What is SQL?\")"
   ]
  },
  {
   "cell_type": "markdown",
   "id": "2b000c1e",
   "metadata": {},
   "source": [
    "## 5. SQL Chain\n",
    "\n",
    "We use our database and the LLM from OpenAI for SQL query generation."
   ]
  },
  {
   "cell_type": "code",
   "execution_count": 14,
   "id": "62237da9",
   "metadata": {},
   "outputs": [],
   "source": [
    "from langchain.chains import create_sql_query_chain"
   ]
  },
  {
   "cell_type": "code",
   "execution_count": 15,
   "id": "7a515701",
   "metadata": {},
   "outputs": [],
   "source": [
    "database_chain = create_sql_query_chain(input_model, db)"
   ]
  },
  {
   "cell_type": "code",
   "execution_count": 16,
   "id": "3b5508fa",
   "metadata": {},
   "outputs": [
    {
     "data": {
      "text/plain": [
       "RunnableAssign(mapper={\n",
       "  input: RunnableLambda(...),\n",
       "  table_info: RunnableLambda(...)\n",
       "})\n",
       "| RunnableLambda(lambda x: {k: v for (k, v) in x.items() if k not in ('question', 'table_names_to_use')})\n",
       "| PromptTemplate(input_variables=['input', 'table_info'], partial_variables={'top_k': '5'}, template='You are a MySQL expert. Given an input question, first create a syntactically correct MySQL query to run, then look at the results of the query and return the answer to the input question.\\nUnless the user specifies in the question a specific number of examples to obtain, query for at most {top_k} results using the LIMIT clause as per MySQL. You can order the results to return the most informative data in the database.\\nNever query for all columns from a table. You must query only the columns that are needed to answer the question. Wrap each column name in backticks (`) to denote them as delimited identifiers.\\nPay attention to use only the column names you can see in the tables below. Be careful to not query for columns that do not exist. Also, pay attention to which column is in which table.\\nPay attention to use CURDATE() function to get the current date, if the question involves \"today\".\\n\\nUse the following format:\\n\\nQuestion: Question here\\nSQLQuery: SQL Query to run\\nSQLResult: Result of the SQLQuery\\nAnswer: Final answer here\\n\\nOnly use the following tables:\\n{table_info}\\n\\nQuestion: {input}')\n",
       "| RunnableBinding(bound=OpenAI(client=<openai.resources.completions.Completions object at 0x10861caf0>, async_client=<openai.resources.completions.AsyncCompletions object at 0x11c2a09d0>, temperature=0.0, openai_api_key=SecretStr('**********'), openai_proxy=''), kwargs={'stop': ['\\nSQLResult:']})\n",
       "| StrOutputParser()\n",
       "| RunnableLambda(_strip)"
      ]
     },
     "execution_count": 16,
     "metadata": {},
     "output_type": "execute_result"
    }
   ],
   "source": [
    "# chain description\n",
    "\n",
    "database_chain"
   ]
  },
  {
   "cell_type": "code",
   "execution_count": 17,
   "id": "4bf68088",
   "metadata": {},
   "outputs": [],
   "source": [
    "# our question\n",
    "\n",
    "prompt = \"Which actors have the first name ‘Scarlett’?\""
   ]
  },
  {
   "cell_type": "code",
   "execution_count": 18,
   "id": "8da767a5",
   "metadata": {},
   "outputs": [],
   "source": [
    "# generated query\n",
    "\n",
    "sql_query = database_chain.invoke({\"question\": prompt})"
   ]
  },
  {
   "cell_type": "code",
   "execution_count": 19,
   "id": "52afa99b",
   "metadata": {},
   "outputs": [
    {
     "name": "stdout",
     "output_type": "stream",
     "text": [
      "SELECT `actor_id`, `first_name`, `last_name`, `last_update` FROM `actor` WHERE `first_name` = 'Scarlett' LIMIT 5;\n"
     ]
    }
   ],
   "source": [
    "#we can visualize what sql query is generated by the LLM\n",
    "\n",
    "print(sql_query)"
   ]
  },
  {
   "cell_type": "markdown",
   "id": "951ea596",
   "metadata": {},
   "source": [
    "## 6. Executing generated SQL query"
   ]
  },
  {
   "cell_type": "code",
   "execution_count": 20,
   "id": "f6f015f3",
   "metadata": {},
   "outputs": [
    {
     "data": {
      "text/plain": [
       "[(81, 'SCARLETT', 'DAMON', datetime.datetime(2006, 2, 15, 4, 34, 33)),\n",
       " (124, 'SCARLETT', 'BENING', datetime.datetime(2006, 2, 15, 4, 34, 33))]"
      ]
     },
     "execution_count": 20,
     "metadata": {},
     "output_type": "execute_result"
    }
   ],
   "source": [
    "# SQL output\n",
    "\n",
    "response = cursor.execute(sql_query).fetchall()\n",
    "\n",
    "response"
   ]
  },
  {
   "cell_type": "markdown",
   "id": "d588001f",
   "metadata": {},
   "source": [
    "## 7. Cleaning response\n",
    "\n",
    "We clean the SQL output so that the model understands better and returns a more concise response parsing the output to markdown."
   ]
  },
  {
   "cell_type": "code",
   "execution_count": 21,
   "id": "686d9f22",
   "metadata": {},
   "outputs": [],
   "source": [
    "import pandas as pd"
   ]
  },
  {
   "cell_type": "code",
   "execution_count": 22,
   "id": "0efbb3cc",
   "metadata": {},
   "outputs": [
    {
     "data": {
      "text/plain": [
       "'|    |   actor_id | first_name   | last_name   | last_update         |\\n|---:|-----------:|:-------------|:------------|:--------------------|\\n|  0 |         81 | SCARLETT     | DAMON       | 2006-02-15 04:34:33 |\\n|  1 |        124 | SCARLETT     | BENING      | 2006-02-15 04:34:33 |'"
      ]
     },
     "execution_count": 22,
     "metadata": {},
     "output_type": "execute_result"
    }
   ],
   "source": [
    "context = pd.DataFrame(response).to_markdown()\n",
    "\n",
    "context"
   ]
  },
  {
   "cell_type": "markdown",
   "id": "2048325c",
   "metadata": {},
   "source": [
    "## 8. Output LLM\n",
    "\n",
    "With this model, we generate the final response."
   ]
  },
  {
   "cell_type": "code",
   "execution_count": 23,
   "id": "b8b689b6",
   "metadata": {},
   "outputs": [],
   "source": [
    "from langchain_openai.chat_models import ChatOpenAI   \n",
    "\n",
    "output_model = ChatOpenAI(model=\"gpt-4-turbo\")"
   ]
  },
  {
   "cell_type": "code",
   "execution_count": 24,
   "id": "68148d2a",
   "metadata": {},
   "outputs": [
    {
     "data": {
      "text/plain": [
       "\"The actors with the first name 'Scarlett' are Scarlett Damon and Scarlett Bening.\""
      ]
     },
     "execution_count": 24,
     "metadata": {},
     "output_type": "execute_result"
    }
   ],
   "source": [
    "output_model.invoke(f\"\"\"Given the next context, answer the cuestion: \n",
    "                    \n",
    "                    context: {context}, \n",
    "                    \n",
    "                    question: {prompt}\n",
    "                    \n",
    "                    \"\"\").content"
   ]
  },
  {
   "cell_type": "markdown",
   "id": "d7752c86",
   "metadata": {},
   "source": [
    "## 9. Code Summary"
   ]
  },
  {
   "cell_type": "code",
   "execution_count": 26,
   "id": "9f1af0ab",
   "metadata": {},
   "outputs": [
    {
     "name": "stdout",
     "output_type": "stream",
     "text": [
      "CPU times: user 182 ms, sys: 16.5 ms, total: 198 ms\n",
      "Wall time: 3.29 s\n"
     ]
    },
    {
     "data": {
      "text/plain": [
       "'The actors with the first name \"Scarlett\" are Scarlett Damon and Scarlett Bening.'"
      ]
     },
     "execution_count": 26,
     "metadata": {},
     "output_type": "execute_result"
    }
   ],
   "source": [
    "%%time\n",
    "\n",
    "import warnings\n",
    "warnings.filterwarnings(\"ignore\")\n",
    "\n",
    "from sqlalchemy import create_engine\n",
    "\n",
    "from langchain import SQLDatabase\n",
    "from langchain.chains import create_sql_query_chain\n",
    "from langchain_openai import OpenAI\n",
    "from langchain_openai.chat_models import ChatOpenAI   \n",
    "\n",
    "import pandas as pd\n",
    "\n",
    "import os                           \n",
    "from dotenv import load_dotenv        \n",
    "\n",
    "\n",
    "\n",
    "\n",
    "load_dotenv()\n",
    "\n",
    "OPENAI_API_KEY = os.getenv(\"OPENAI_API_KEY\")\n",
    "\n",
    "\n",
    "LANGUAGE = \"mysql+pymysql\"\n",
    "\n",
    "USER = \"root\"\n",
    "\n",
    "PASSWORD = \"password\"\n",
    "\n",
    "SERVER = \"localhost:3306\"\n",
    "\n",
    "DATABASE = \"sakila\"\n",
    "\n",
    "\n",
    "URI = f\"{LANGUAGE}://{USER}:{PASSWORD}@{SERVER}/{DATABASE}\"\n",
    "    \n",
    "    \n",
    "cursor = create_engine(URI).connect()\n",
    "\n",
    "\n",
    "tables = cursor.execute(\"show tables;\").fetchall()\n",
    "\n",
    "tables = [e[0] for e in tables]\n",
    "\n",
    "\n",
    "db = SQLDatabase.from_uri(URI,\n",
    "                          sample_rows_in_table_info=1, \n",
    "                          include_tables=tables)\n",
    "\n",
    "input_model = OpenAI(temperature=0)\n",
    "\n",
    "\n",
    "database_chain = create_sql_query_chain(input_model, db)\n",
    "\n",
    "\n",
    "prompt = \"Which actors have the first name ‘Scarlett’?\"\n",
    "\n",
    "\n",
    "sql_query = database_chain.invoke({\"question\": prompt})\n",
    "\n",
    "\n",
    "response = cursor.execute(sql_query).fetchall()\n",
    "\n",
    "\n",
    "context = pd.DataFrame(response).to_markdown()\n",
    "\n",
    "\n",
    "output_model = ChatOpenAI(model=\"gpt-4-turbo\")\n",
    "\n",
    "\n",
    "\n",
    "final_prompt = f\"\"\"Given the next context, answer the cuestion: \n",
    "                    \n",
    "                   context: {context}, \n",
    "                    \n",
    "                   question: {prompt}\n",
    "                    \n",
    "                   \"\"\"\n",
    "\n",
    "\n",
    "\n",
    "output_model.invoke(final_prompt).content"
   ]
  }
 ],
 "metadata": {
  "kernelspec": {
   "display_name": "virtual",
   "language": "python",
   "name": "virtual"
  },
  "language_info": {
   "codemirror_mode": {
    "name": "ipython",
    "version": 3
   },
   "file_extension": ".py",
   "mimetype": "text/x-python",
   "name": "python",
   "nbconvert_exporter": "python",
   "pygments_lexer": "ipython3",
   "version": "3.10.14"
  },
  "toc": {
   "base_numbering": 1,
   "nav_menu": {},
   "number_sections": false,
   "sideBar": true,
   "skip_h1_title": true,
   "title_cell": "Table of Contents",
   "title_sidebar": "Contents",
   "toc_cell": true,
   "toc_position": {
    "height": "508px",
    "left": "112px",
    "top": "110.537px",
    "width": "268.8px"
   },
   "toc_section_display": true,
   "toc_window_display": true
  }
 },
 "nbformat": 4,
 "nbformat_minor": 5
}
