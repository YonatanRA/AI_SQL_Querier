{
 "cells": [
  {
   "cell_type": "markdown",
   "id": "dda7c067",
   "metadata": {},
   "source": [
    "# AI SQL Querier"
   ]
  },
  {
   "cell_type": "markdown",
   "id": "619aa710",
   "metadata": {
    "toc": true
   },
   "source": [
    "<h1>Table of Contents<span class=\"tocSkip\"></span></h1>\n",
    "<div class=\"toc\"><ul class=\"toc-item\"><li><span><a href=\"#1.-OpenAI-API-KEY\" data-toc-modified-id=\"1.-OpenAI-API-KEY-1\">1. OpenAI API KEY</a></span></li><li><span><a href=\"#2.-SQL-Connection\" data-toc-modified-id=\"2.-SQL-Connection-2\">2. SQL Connection</a></span></li><li><span><a href=\"#3.-Load-SQL-DB-in-LangChain\" data-toc-modified-id=\"3.-Load-SQL-DB-in-LangChain-3\">3. Load SQL DB in LangChain</a></span></li><li><span><a href=\"#4.-Input-LLM\" data-toc-modified-id=\"4.-Input-LLM-4\">4. Input LLM</a></span></li><li><span><a href=\"#5.-SQL-Chain\" data-toc-modified-id=\"5.-SQL-Chain-5\">5. SQL Chain</a></span></li><li><span><a href=\"#6.-Executing-generated-SQL-query\" data-toc-modified-id=\"6.-Executing-generated-SQL-query-6\">6. Executing generated SQL query</a></span></li><li><span><a href=\"#7.-Cleaning-response\" data-toc-modified-id=\"7.-Cleaning-response-7\">7. Cleaning response</a></span></li><li><span><a href=\"#8.-Output-LLM\" data-toc-modified-id=\"8.-Output-LLM-8\">8. Output LLM</a></span></li><li><span><a href=\"#9.-Code-Summary\" data-toc-modified-id=\"9.-Code-Summary-9\">9. Code Summary</a></span></li></ul></div>"
   ]
  },
  {
   "cell_type": "markdown",
   "id": "53ec696b",
   "metadata": {},
   "source": [
    "## 1. OpenAI API KEY\n",
    "\n",
    "To carry out this project, we will need an API KEY from OpenAI to use the GPT-4 Turbo model. This API KEY can be obtained at https://platform.openai.com/api-keys. It is only displayed once, so it must be saved at the moment it is obtained. Of course, we will need to create an account to get it.\n",
    "\n",
    "We store the API KEY in a `.env` file to load it with the dotenv library and use it as an environment variable. This file is added to the `.gitignore` to ensure that it cannot be seen if we upload the code to GitHub, for example."
   ]
  },
  {
   "cell_type": "code",
   "execution_count": 1,
   "id": "a6ee5442",
   "metadata": {},
   "outputs": [],
   "source": [
    "# removing deprecation warnings\n",
    "\n",
    "import warnings\n",
    "warnings.filterwarnings(\"ignore\")"
   ]
  },
  {
   "cell_type": "code",
   "execution_count": 2,
   "id": "aa7bf4f0",
   "metadata": {},
   "outputs": [],
   "source": [
    "# import API KEY\n",
    "\n",
    "import os                           # operating system library\n",
    "from dotenv import load_dotenv      # load environment variables  \n",
    "\n",
    "\n",
    "load_dotenv()\n",
    "\n",
    "\n",
    "OPENAI_API_KEY = os.getenv(\"OPENAI_API_KEY\")"
   ]
  },
  {
   "cell_type": "markdown",
   "id": "c4e9f619",
   "metadata": {},
   "source": [
    "## 2. SQL Connection\n",
    "\n",
    "We make the SQL connection by creating the URI, with the SnowFlake credentials. These details will change depending on the database used and the user credentials."
   ]
  },
  {
   "cell_type": "code",
   "execution_count": 3,
   "id": "8ff22807",
   "metadata": {},
   "outputs": [],
   "source": [
    "from sqlalchemy import create_engine"
   ]
  },
  {
   "cell_type": "code",
   "execution_count": 4,
   "id": "04833bb5",
   "metadata": {},
   "outputs": [],
   "source": [
    "# server and user credentials \n",
    "\n",
    "snowflake_account = os.getenv(\"snowflake_account\")\n",
    "\n",
    "username = os.getenv(\"username\")\n",
    "\n",
    "password = os.getenv(\"password\")\n",
    "\n",
    "database = os.getenv(\"database\")\n",
    "\n",
    "schema = os.getenv(\"schema\")\n",
    "\n",
    "warehouse = os.getenv(\"warehouse\")\n",
    "\n",
    "role = os.getenv(\"role\")"
   ]
  },
  {
   "cell_type": "code",
   "execution_count": 5,
   "id": "a29227a1",
   "metadata": {},
   "outputs": [],
   "source": [
    "URI = f\"snowflake://{username}:{password}@{snowflake_account}/{database}/{schema}?warehouse={warehouse}&role={role}\""
   ]
  },
  {
   "cell_type": "code",
   "execution_count": 6,
   "id": "edd169e9",
   "metadata": {},
   "outputs": [],
   "source": [
    "# database connection\n",
    "\n",
    "cursor = create_engine(URI).connect()"
   ]
  },
  {
   "cell_type": "code",
   "execution_count": 7,
   "id": "96847fbe",
   "metadata": {},
   "outputs": [
    {
     "data": {
      "text/plain": [
       "['`ACTOR`',\n",
       " '`ADDRESS`',\n",
       " '`CATEGORY`',\n",
       " '`CITY`',\n",
       " '`COUNTRY`',\n",
       " '`CUSTOMER`',\n",
       " '`FILM_ACTOR`',\n",
       " '`FILM_CATEGORY`',\n",
       " '`FILM_TEXT`',\n",
       " '`FILM`',\n",
       " '`INVENTORY`',\n",
       " '`LANGUAGE`',\n",
       " '`PAYMENT`',\n",
       " '`RENTAL`',\n",
       " '`STAFF`',\n",
       " '`STORE`']"
      ]
     },
     "execution_count": 7,
     "metadata": {},
     "output_type": "execute_result"
    }
   ],
   "source": [
    "# show all database tables\n",
    "\n",
    "tables = cursor.execute(\"show tables;\").fetchall()\n",
    "\n",
    "tables = [e[1] for e in tables]\n",
    "\n",
    "tables"
   ]
  },
  {
   "cell_type": "markdown",
   "id": "044c7f4e",
   "metadata": {},
   "source": [
    "## 3. Load SQL DB in LangChain\n",
    "\n",
    "We create the SQL chain for feeding the LLM later."
   ]
  },
  {
   "cell_type": "code",
   "execution_count": 8,
   "id": "0bd78028",
   "metadata": {},
   "outputs": [],
   "source": [
    "from langchain import SQLDatabase"
   ]
  },
  {
   "cell_type": "code",
   "execution_count": 9,
   "id": "7f3c8c33",
   "metadata": {},
   "outputs": [],
   "source": [
    "db = SQLDatabase.from_uri(URI,\n",
    "                          sample_rows_in_table_info=1, \n",
    "                          include_tables=tables)\n"
   ]
  },
  {
   "cell_type": "code",
   "execution_count": 10,
   "id": "4fa45a42",
   "metadata": {
    "scrolled": false
   },
   "outputs": [
    {
     "name": "stdout",
     "output_type": "stream",
     "text": [
      "\n",
      "CREATE TABLE \"`ACTOR`\" (\n",
      "\t\"`ACTOR_ID`\" DECIMAL(38, 0) NOT NULL, \n",
      "\t\"`FIRST_NAME`\" VARCHAR(45) NOT NULL, \n",
      "\t\"`LAST_NAME`\" VARCHAR(45) NOT NULL, \n",
      "\t\"`LAST_UPDATE`\" TIMESTAMP_NTZ NOT NULL, \n",
      "\tCONSTRAINT \"SYS_CONSTRAINT_a33a12cb-9ed4-4179-ad31-82eddacc6b7b\" PRIMARY KEY (\"`ACTOR_ID`\")\n",
      ")\n",
      "\n",
      "/*\n",
      "1 rows from `ACTOR` table:\n",
      "`ACTOR_ID`\t`FIRST_NAME`\t`LAST_NAME`\t`LAST_UPDATE`\n",
      "1\tPENELOPE\tGUINESS\t2006-02-15 03:34:33\n",
      "*/\n",
      "\n",
      "\n",
      "CREATE TABLE \"`ADDRESS`\" (\n",
      "\t\"`ADDRESS_ID`\" DECIMAL(38, 0) NOT NULL, \n",
      "\t\"`ADDRESS`\" VARCHAR(16777216) NOT NULL, \n",
      "\t\"`ADDRESS2`\" VARCHAR(16777216), \n",
      "\t\"`DISTRICT`\" VARCHAR(16777216) NOT NULL, \n",
      "\t\"`CITY_ID`\" DECIMAL(38, 0) NOT NULL, \n",
      "\t\"`POSTAL_CODE`\" VARCHAR(10), \n",
      "\t\"`PHONE`\" VARCHAR(16777216) NOT NULL, \n",
      "\t\"`LOCATION`\" VARCHAR(16777216) NOT NULL, \n",
      "\t\"`LAST_UPDATE`\" TIMESTAMP_NTZ NOT NULL\n",
      ")\n",
      "\n",
      "/*\n",
      "1 rows from `ADDRESS` table:\n",
      "`ADDRESS_ID`\t`ADDRESS`\t`ADDRESS2`\t`DISTRICT`\t`CITY_ID`\t`POSTAL_CODE`\t`PHONE`\t`LOCATION`\t`LAST_UPDATE`\n",
      "1\t47 MySakila Drive\tNone\tAlberta\t300\t\t\tA\t2014-09-25 20:30:27\n",
      "*/\n",
      "\n",
      "\n",
      "CREATE TABLE \"`CATEGORY`\" (\n",
      "\t\"`CATEGORY_ID`\" DECIMAL(38, 0) NOT NULL, \n",
      "\t\"`NAME`\" VARCHAR(25) NOT NULL, \n",
      "\t\"`LAST_UPDATE`\" TIMESTAMP_NTZ NOT NULL, \n",
      "\tCONSTRAINT \"SYS_CONSTRAINT_1668e590-9912-4a04-ab72-a8ce364e2afe\" PRIMARY KEY (\"`CATEGORY_ID`\")\n",
      ")\n",
      "\n",
      "/*\n",
      "1 rows from `CATEGORY` table:\n",
      "`CATEGORY_ID`\t`NAME`\t`LAST_UPDATE`\n",
      "1\tAction\t2006-02-15 03:46:27\n",
      "*/\n",
      "\n",
      "\n",
      "CREATE TABLE \"`CITY`\" (\n",
      "\t\"`CITY_ID`\" DECIMAL(38, 0) NOT NULL, \n",
      "\t\"`CITY`\" VARCHAR(50) NOT NULL, \n",
      "\t\"`COUNTRY_ID`\" DECIMAL(38, 0) NOT NULL, \n",
      "\t\"`LAST_UPDATE`\" TIMESTAMP_NTZ NOT NULL, \n",
      "\tCONSTRAINT \"SYS_CONSTRAINT_8cee2877-af62-410f-bd17-4dec4c0fddea\" PRIMARY KEY (\"`CITY_ID`\")\n",
      ")\n",
      "\n",
      "/*\n",
      "1 rows from `CITY` table:\n",
      "`CITY_ID`\t`CITY`\t`COUNTRY_ID`\t`LAST_UPDATE`\n",
      "1\tA Coru√±a (La Coru√±a)\t87\t2006-02-15 03:45:25\n",
      "*/\n",
      "\n",
      "\n",
      "CREATE TABLE \"`COUNTRY`\" (\n",
      "\t\"`COUNTRY_ID`\" DECIMAL(38, 0) NOT NULL, \n",
      "\t\"`COUNTRY`\" VARCHAR(50) NOT NULL, \n",
      "\t\"`LAST_UPDATE`\" TIMESTAMP_NTZ NOT NULL, \n",
      "\tCONSTRAINT \"SYS_CONSTRAINT_895c22dc-1fd7-49c6-9859-e488a29f0214\" PRIMARY KEY (\"`COUNTRY_ID`\")\n",
      ")\n",
      "\n",
      "/*\n",
      "1 rows from `COUNTRY` table:\n",
      "`COUNTRY_ID`\t`COUNTRY`\t`LAST_UPDATE`\n",
      "1\tAfghanistan\t2006-02-15 03:44:00\n",
      "*/\n",
      "\n",
      "\n",
      "CREATE TABLE \"`CUSTOMER`\" (\n",
      "\t\"`CUSTOMER_ID`\" DECIMAL(38, 0) NOT NULL, \n",
      "\t\"`STORE_ID`\" DECIMAL(38, 0) NOT NULL, \n",
      "\t\"`FIRST_NAME`\" VARCHAR(45) NOT NULL, \n",
      "\t\"`LAST_NAME`\" VARCHAR(45) NOT NULL, \n",
      "\t\"`EMAIL`\" VARCHAR(50), \n",
      "\t\"`ADDRESS_ID`\" DECIMAL(38, 0) NOT NULL, \n",
      "\t\"`ACTIVE`\" DECIMAL(38, 0) NOT NULL, \n",
      "\t\"`CREATE_DATE`\" TIMESTAMP_NTZ NOT NULL, \n",
      "\t\"`LAST_UPDATE`\" TIMESTAMP_NTZ, \n",
      "\tCONSTRAINT \"SYS_CONSTRAINT_32084707-0bee-4669-9b0a-6f6793a39da9\" PRIMARY KEY (\"`CUSTOMER_ID`\")\n",
      ")\n",
      "\n",
      "/*\n",
      "1 rows from `CUSTOMER` table:\n",
      "`CUSTOMER_ID`\t`STORE_ID`\t`FIRST_NAME`\t`LAST_NAME`\t`EMAIL`\t`ADDRESS_ID`\t`ACTIVE`\t`CREATE_DATE`\t`LAST_UPDATE`\n",
      "1\t1\tMARY\tSMITH\tMARY.SMITH@sakilacustomer.org\t5\t1\t2006-02-14 22:04:36\t2006-02-15 03:57:20\n",
      "*/\n",
      "\n",
      "\n",
      "CREATE TABLE \"`FILM_ACTOR`\" (\n",
      "\t\"`ACTOR_ID`\" DECIMAL(38, 0) NOT NULL, \n",
      "\t\"`FILM_ID`\" DECIMAL(38, 0) NOT NULL, \n",
      "\t\"`LAST_UPDATE`\" TIMESTAMP_NTZ NOT NULL, \n",
      "\tCONSTRAINT \"SYS_CONSTRAINT_56735937-1f16-410f-9d8c-7302d1b75e5d\" PRIMARY KEY (\"`ACTOR_ID`\", \"`FILM_ID`\")\n",
      ")\n",
      "\n",
      "/*\n",
      "1 rows from `FILM_ACTOR` table:\n",
      "`ACTOR_ID`\t`FILM_ID`\t`LAST_UPDATE`\n",
      "1\t1\t2006-02-15 04:05:03\n",
      "*/\n",
      "\n",
      "\n",
      "CREATE TABLE \"`FILM_CATEGORY`\" (\n",
      "\t\"`FILM_ID`\" DECIMAL(38, 0) NOT NULL, \n",
      "\t\"`CATEGORY_ID`\" DECIMAL(38, 0) NOT NULL, \n",
      "\t\"`LAST_UPDATE`\" TIMESTAMP_NTZ NOT NULL, \n",
      "\tCONSTRAINT \"SYS_CONSTRAINT_87184eab-018f-41fe-99d3-ea4a6ac6c61e\" PRIMARY KEY (\"`CATEGORY_ID`\", \"`FILM_ID`\")\n",
      ")\n",
      "\n",
      "/*\n",
      "1 rows from `FILM_CATEGORY` table:\n",
      "`FILM_ID`\t`CATEGORY_ID`\t`LAST_UPDATE`\n",
      "1\t6\t2006-02-15 04:07:09\n",
      "*/\n",
      "\n",
      "\n",
      "CREATE TABLE \"`FILM_TEXT`\" (\n",
      "\t\"`FILM_ID`\" DECIMAL(38, 0) NOT NULL, \n",
      "\t\"`TITLE`\" VARCHAR(255) NOT NULL, \n",
      "\t\"`DESCRIPTION`\" VARCHAR(16777216), \n",
      "\tCONSTRAINT \"SYS_CONSTRAINT_ece95aa1-6efe-4704-bb56-c31c8807b03d\" PRIMARY KEY (\"`FILM_ID`\")\n",
      ")\n",
      "\n",
      "/*\n",
      "1 rows from `FILM_TEXT` table:\n",
      "`FILM_ID`\t`TITLE`\t`DESCRIPTION`\n",
      "1\tACADEMY DINOSAUR\tA Epic Drama of a Feminist And a Mad Scientist who must Battle a Teacher in The Canadian Rockies\n",
      "*/\n",
      "\n",
      "\n",
      "CREATE TABLE \"`FILM`\" (\n",
      "\t\"`FILM_ID`\" DECIMAL(38, 0) NOT NULL, \n",
      "\t\"`TITLE`\" VARCHAR(16777216) NOT NULL, \n",
      "\t\"`DESCRIPTION`\" VARCHAR(16777216), \n",
      "\t\"`RELEASE_YEAR`\" DECIMAL(38, 0), \n",
      "\t\"`LANGUAGE_ID`\" DECIMAL(38, 0) NOT NULL, \n",
      "\t\"`ORIGINAL_LANGUAGE_ID`\" DECIMAL(38, 0), \n",
      "\t\"`RENTAL_DURATION`\" DECIMAL(38, 0) NOT NULL, \n",
      "\t\"`RENTAL_RATE`\" DECIMAL(4, 2) NOT NULL, \n",
      "\t\"`LENGTH`\" DECIMAL(38, 0), \n",
      "\t\"`REPLACEMENT_COST`\" DECIMAL(5, 2), \n",
      "\t\"`RATING`\" VARCHAR(16777216), \n",
      "\t\"`SPECIAL_FEATURES`\" VARCHAR(16777216), \n",
      "\t\"`LAST_UPDATE`\" TIMESTAMP_NTZ NOT NULL, \n",
      "\tCONSTRAINT \"SYS_CONSTRAINT_fa0a408e-2b80-4f19-a110-be3c8f87a701\" PRIMARY KEY (\"`FILM_ID`\")\n",
      ")\n",
      "\n",
      "/*\n",
      "1 rows from `FILM` table:\n",
      "`FILM_ID`\t`TITLE`\t`DESCRIPTION`\t`RELEASE_YEAR`\t`LANGUAGE_ID`\t`ORIGINAL_LANGUAGE_ID`\t`RENTAL_DURATION`\t`RENTAL_RATE`\t`LENGTH`\t`REPLACEMENT_COST`\t`RATING`\t`SPECIAL_FEATURES`\t`LAST_UPDATE`\n",
      "1\tACADEMY DINOSAUR\tA Epic Drama of a Feminist And a Mad Scientist who must Battle a Teacher in The Canadian Rockies\t2006\t1\tNone\t6\t0.99\t86\t20.99\tPG\tDeleted Scenes,Behind the Scenes\t2006-02-15 04:03:42\n",
      "*/\n",
      "\n",
      "\n",
      "CREATE TABLE \"`INVENTORY`\" (\n",
      "\t\"`INVENTORY_ID`\" DECIMAL(38, 0) NOT NULL, \n",
      "\t\"`FILM_ID`\" DECIMAL(38, 0) NOT NULL, \n",
      "\t\"`STORE_ID`\" DECIMAL(38, 0) NOT NULL, \n",
      "\t\"`LAST_UPDATE`\" TIMESTAMP_NTZ NOT NULL, \n",
      "\tCONSTRAINT \"SYS_CONSTRAINT_ebffb42b-e7db-4e14-8cf8-beaf2c71fa26\" PRIMARY KEY (\"`INVENTORY_ID`\")\n",
      ")\n",
      "\n",
      "/*\n",
      "1 rows from `INVENTORY` table:\n",
      "`INVENTORY_ID`\t`FILM_ID`\t`STORE_ID`\t`LAST_UPDATE`\n",
      "1\t1\t1\t2006-02-15 04:09:17\n",
      "*/\n",
      "\n",
      "\n",
      "CREATE TABLE \"`LANGUAGE`\" (\n",
      "\t\"`LANGUAGE_ID`\" DECIMAL(38, 0) NOT NULL, \n",
      "\t\"`NAME`\" VARCHAR(20) NOT NULL, \n",
      "\t\"`LAST_UPDATE`\" TIMESTAMP_NTZ NOT NULL, \n",
      "\tCONSTRAINT \"SYS_CONSTRAINT_b66b043e-c3d4-4000-8ad0-9f0ddeeaaf4e\" PRIMARY KEY (\"`LANGUAGE_ID`\")\n",
      ")\n",
      "\n",
      "/*\n",
      "1 rows from `LANGUAGE` table:\n",
      "`LANGUAGE_ID`\t`NAME`\t`LAST_UPDATE`\n",
      "1\tEnglish\t2006-02-15 04:02:19\n",
      "*/\n",
      "\n",
      "\n",
      "CREATE TABLE \"`PAYMENT`\" (\n",
      "\t\"`PAYMENT_ID`\" DECIMAL(38, 0) NOT NULL, \n",
      "\t\"`CUSTOMER_ID`\" DECIMAL(38, 0) NOT NULL, \n",
      "\t\"`STAFF_ID`\" DECIMAL(38, 0) NOT NULL, \n",
      "\t\"`RENTAL_ID`\" DECIMAL(38, 0), \n",
      "\t\"`AMOUNT`\" DECIMAL(5, 2) NOT NULL, \n",
      "\t\"`PAYMENT_DATE`\" TIMESTAMP_NTZ NOT NULL, \n",
      "\t\"`LAST_UPDATE`\" TIMESTAMP_NTZ, \n",
      "\tCONSTRAINT \"SYS_CONSTRAINT_b435784b-6448-4d8d-9970-69772bbe14cc\" PRIMARY KEY (\"`PAYMENT_ID`\")\n",
      ")\n",
      "\n",
      "/*\n",
      "1 rows from `PAYMENT` table:\n",
      "`PAYMENT_ID`\t`CUSTOMER_ID`\t`STAFF_ID`\t`RENTAL_ID`\t`AMOUNT`\t`PAYMENT_DATE`\t`LAST_UPDATE`\n",
      "1\t1\t1\t76\t2.99\t2005-05-25 11:30:37\t2006-02-15 21:12:30\n",
      "*/\n",
      "\n",
      "\n",
      "CREATE TABLE \"`RENTAL`\" (\n",
      "\t\"`RENTAL_ID`\" DECIMAL(38, 0) NOT NULL, \n",
      "\t\"`RENTAL_DATE`\" TIMESTAMP_NTZ NOT NULL, \n",
      "\t\"`INVENTORY_ID`\" DECIMAL(38, 0) NOT NULL, \n",
      "\t\"`CUSTOMER_ID`\" DECIMAL(38, 0) NOT NULL, \n",
      "\t\"`RETURN_DATE`\" TIMESTAMP_NTZ, \n",
      "\t\"`STAFF_ID`\" DECIMAL(38, 0) NOT NULL, \n",
      "\t\"`LAST_UPDATE`\" TIMESTAMP_NTZ NOT NULL, \n",
      "\tCONSTRAINT \"SYS_CONSTRAINT_5852ec2f-e4ff-464b-94eb-8bd6c1836452\" PRIMARY KEY (\"`RENTAL_ID`\")\n",
      ")\n",
      "\n",
      "/*\n",
      "1 rows from `RENTAL` table:\n",
      "`RENTAL_ID`\t`RENTAL_DATE`\t`INVENTORY_ID`\t`CUSTOMER_ID`\t`RETURN_DATE`\t`STAFF_ID`\t`LAST_UPDATE`\n",
      "1\t2005-05-24 22:53:30\t367\t130\t2005-05-26 22:04:30\t1\t2006-02-15 20:30:53\n",
      "*/\n",
      "\n",
      "\n",
      "CREATE TABLE \"`STAFF`\" (\n",
      "\t\"`STAFF_ID`\" DECIMAL(38, 0) NOT NULL, \n",
      "\t\"`FIRST_NAME`\" VARCHAR(16777216) NOT NULL, \n",
      "\t\"`LAST_NAME`\" VARCHAR(16777216) NOT NULL, \n",
      "\t\"`ADDRESS_ID`\" DECIMAL(38, 0) NOT NULL, \n",
      "\t\"`PICTURE`\" VARCHAR(16777216) NOT NULL, \n",
      "\t\"`EMAIL`\" VARCHAR(16777216), \n",
      "\t\"`STORE_ID`\" DECIMAL(38, 0) NOT NULL, \n",
      "\t\"`ACTIVE`\" DECIMAL(38, 0) NOT NULL, \n",
      "\t\"`USERNAME`\" VARCHAR(16777216) NOT NULL, \n",
      "\t\"`PASSWORD`\" VARCHAR(16777216), \n",
      "\t\"`LAST_UPDATE`\" TIMESTAMP_NTZ NOT NULL\n",
      ")\n",
      "\n",
      "/*\n",
      "1 rows from `STAFF` table:\n",
      "`STAFF_ID`\t`FIRST_NAME`\t`LAST_NAME`\t`ADDRESS_ID`\t`PICTURE`\t`EMAIL`\t`STORE_ID`\t`ACTIVE`\t`USERNAME`\t`PASSWORD`\t`LAST_UPDATE`\n",
      "1\tMike\tHillyer\t3\tA\tMike.Hillyer@sakilastaff.com\t1\t1\tMike\t8cb2237d0679ca88db6464eac60da96345513964\t2006-02-15 02:57:16\n",
      "*/\n",
      "\n",
      "\n",
      "CREATE TABLE \"`STORE`\" (\n",
      "\t\"`STORE_ID`\" DECIMAL(38, 0) NOT NULL, \n",
      "\t\"`MANAGER_STAFF_ID`\" DECIMAL(38, 0) NOT NULL, \n",
      "\t\"`ADDRESS_ID`\" DECIMAL(38, 0) NOT NULL, \n",
      "\t\"`LAST_UPDATE`\" TIMESTAMP_NTZ NOT NULL, \n",
      "\tCONSTRAINT \"SYS_CONSTRAINT_95e1b0ad-ffe5-43bc-b625-0903bd480b30\" PRIMARY KEY (\"`STORE_ID`\")\n",
      ")\n",
      "\n",
      "/*\n",
      "1 rows from `STORE` table:\n",
      "`STORE_ID`\t`MANAGER_STAFF_ID`\t`ADDRESS_ID`\t`LAST_UPDATE`\n",
      "1\t1\t1\t2006-02-15 03:57:12\n",
      "*/\n"
     ]
    }
   ],
   "source": [
    "# tables information\n",
    "\n",
    "print(db.table_info)"
   ]
  },
  {
   "cell_type": "markdown",
   "id": "82b01589",
   "metadata": {},
   "source": [
    "## 4. Input LLM\n",
    "\n",
    "We use an OpenAI model as input LLm. A temperature = 0 makes the model's responses more deterministic and repetitive, tending to select the most likely next word given the previous context, which is better for SQL queries generation."
   ]
  },
  {
   "cell_type": "code",
   "execution_count": 11,
   "id": "542be988",
   "metadata": {},
   "outputs": [],
   "source": [
    "from langchain_openai import OpenAI"
   ]
  },
  {
   "cell_type": "code",
   "execution_count": 12,
   "id": "f01e9fa4",
   "metadata": {},
   "outputs": [],
   "source": [
    "input_model = OpenAI(temperature=0)"
   ]
  },
  {
   "cell_type": "code",
   "execution_count": 13,
   "id": "0861d196",
   "metadata": {},
   "outputs": [
    {
     "data": {
      "text/plain": [
       "'\\n\\nSQL (Structured Query Language) is a programming language used for managing and manipulating data stored in relational databases. It is used to create, retrieve, update, and delete data from databases, as well as to define and modify the structure of databases. SQL is a standard language that is used by many database management systems, making it a widely used and important tool for data management and analysis.'"
      ]
     },
     "execution_count": 13,
     "metadata": {},
     "output_type": "execute_result"
    }
   ],
   "source": [
    "# testing model\n",
    "\n",
    "input_model.invoke(\"What is SQL?\")"
   ]
  },
  {
   "cell_type": "markdown",
   "id": "ada071fb",
   "metadata": {},
   "source": [
    "## 5. SQL Chain\n",
    "\n",
    "We use our database and the LLM from OpenAI for SQL query generation."
   ]
  },
  {
   "cell_type": "code",
   "execution_count": 14,
   "id": "c0eb6b9c",
   "metadata": {},
   "outputs": [],
   "source": [
    "from langchain.chains import create_sql_query_chain"
   ]
  },
  {
   "cell_type": "code",
   "execution_count": 15,
   "id": "007866a8",
   "metadata": {},
   "outputs": [],
   "source": [
    "database_chain = create_sql_query_chain(input_model, db)"
   ]
  },
  {
   "cell_type": "code",
   "execution_count": 16,
   "id": "3f552ce4",
   "metadata": {},
   "outputs": [
    {
     "data": {
      "text/plain": [
       "RunnableAssign(mapper={\n",
       "  input: RunnableLambda(...),\n",
       "  table_info: RunnableLambda(...)\n",
       "})\n",
       "| RunnableLambda(lambda x: {k: v for (k, v) in x.items() if k not in ('question', 'table_names_to_use')})\n",
       "| PromptTemplate(input_variables=['input', 'table_info'], partial_variables={'dialect': 'snowflake', 'top_k': '5'}, template='Given an input question, first create a syntactically correct {dialect} query to run, then look at the results of the query and return the answer. Unless the user specifies in his question a specific number of examples he wishes to obtain, always limit your query to at most {top_k} results. You can order the results by a relevant column to return the most interesting examples in the database.\\n\\nNever query for all the columns from a specific table, only ask for a the few relevant columns given the question.\\n\\nPay attention to use only the column names that you can see in the schema description. Be careful to not query for columns that do not exist. Also, pay attention to which column is in which table.\\n\\nUse the following format:\\n\\nQuestion: Question here\\nSQLQuery: SQL Query to run\\nSQLResult: Result of the SQLQuery\\nAnswer: Final answer here\\n\\nOnly use the following tables:\\n{table_info}\\n\\nQuestion: {input}')\n",
       "| RunnableBinding(bound=OpenAI(client=<openai.resources.completions.Completions object at 0x148fdaa40>, async_client=<openai.resources.completions.AsyncCompletions object at 0x149c53a60>, temperature=0.0, openai_api_key=SecretStr('**********'), openai_proxy=''), kwargs={'stop': ['\\nSQLResult:']})\n",
       "| StrOutputParser()\n",
       "| RunnableLambda(_strip)"
      ]
     },
     "execution_count": 16,
     "metadata": {},
     "output_type": "execute_result"
    }
   ],
   "source": [
    "# chain description\n",
    "\n",
    "database_chain"
   ]
  },
  {
   "cell_type": "code",
   "execution_count": 17,
   "id": "666a5de0",
   "metadata": {},
   "outputs": [],
   "source": [
    "# our question\n",
    "\n",
    "prompt = \"Which actors have the first name ‘SCARLETT’? Add `` to table name\""
   ]
  },
  {
   "cell_type": "code",
   "execution_count": 18,
   "id": "86c6130d",
   "metadata": {},
   "outputs": [],
   "source": [
    "# generated query\n",
    "\n",
    "sql_query = database_chain.invoke({\"question\": prompt})"
   ]
  },
  {
   "cell_type": "code",
   "execution_count": 19,
   "id": "f5eb6ecd",
   "metadata": {},
   "outputs": [
    {
     "name": "stdout",
     "output_type": "stream",
     "text": [
      "SELECT `FIRST_NAME`, `LAST_NAME` FROM `ACTOR` WHERE `FIRST_NAME` = 'SCARLETT' LIMIT 5\n"
     ]
    }
   ],
   "source": [
    "#we can visualize what sql query is generated by the LLM\n",
    "\n",
    "print(sql_query)"
   ]
  },
  {
   "cell_type": "markdown",
   "id": "374eff13",
   "metadata": {},
   "source": [
    "## 6. Executing generated SQL query"
   ]
  },
  {
   "cell_type": "code",
   "execution_count": 20,
   "id": "b3252122",
   "metadata": {},
   "outputs": [
    {
     "data": {
      "text/plain": [
       "[('SCARLETT', 'DAMON'), ('SCARLETT', 'BENING')]"
      ]
     },
     "execution_count": 20,
     "metadata": {},
     "output_type": "execute_result"
    }
   ],
   "source": [
    "# SQL output\n",
    "\n",
    "response = cursor.execute(sql_query).fetchall()\n",
    "\n",
    "response"
   ]
  },
  {
   "cell_type": "markdown",
   "id": "f5b385ed",
   "metadata": {},
   "source": [
    "## 7. Cleaning response\n",
    "\n",
    "We clean the SQL output so that the model understands better and returns a more concise response parsing the output to markdown."
   ]
  },
  {
   "cell_type": "code",
   "execution_count": 21,
   "id": "45e758dd",
   "metadata": {},
   "outputs": [],
   "source": [
    "import pandas as pd"
   ]
  },
  {
   "cell_type": "code",
   "execution_count": 22,
   "id": "1567a5eb",
   "metadata": {},
   "outputs": [
    {
     "data": {
      "text/plain": [
       "'|    | `FIRST_NAME`   | `LAST_NAME`   |\\n|---:|:---------------|:--------------|\\n|  0 | SCARLETT       | DAMON         |\\n|  1 | SCARLETT       | BENING        |'"
      ]
     },
     "execution_count": 22,
     "metadata": {},
     "output_type": "execute_result"
    }
   ],
   "source": [
    "context = pd.DataFrame(response).to_markdown()\n",
    "\n",
    "context"
   ]
  },
  {
   "cell_type": "markdown",
   "id": "aa4f2bcf",
   "metadata": {},
   "source": [
    "## 8. Output LLM\n",
    "\n",
    "With this model, we generate the final response."
   ]
  },
  {
   "cell_type": "code",
   "execution_count": 23,
   "id": "8af46469",
   "metadata": {},
   "outputs": [],
   "source": [
    "from langchain_openai.chat_models import ChatOpenAI   \n",
    "\n",
    "output_model = ChatOpenAI(model=\"gpt-4-turbo\")"
   ]
  },
  {
   "cell_type": "code",
   "execution_count": 24,
   "id": "6dfe08d7",
   "metadata": {},
   "outputs": [
    {
     "data": {
      "text/plain": [
       "\"The actors with the first name 'SCARLETT' from the table `context` are:\\n\\n- SCARLETT DAMON\\n- SCARLETT BENING\""
      ]
     },
     "execution_count": 24,
     "metadata": {},
     "output_type": "execute_result"
    }
   ],
   "source": [
    "output_model.invoke(f\"\"\"Given the next context, answer the cuestion: \n",
    "                    \n",
    "                    context: {context}, \n",
    "                    \n",
    "                    question: {prompt}\n",
    "                    \n",
    "                    \"\"\").content"
   ]
  },
  {
   "cell_type": "markdown",
   "id": "63b7da64",
   "metadata": {},
   "source": [
    "## 9. Code Summary"
   ]
  },
  {
   "cell_type": "code",
   "execution_count": 25,
   "id": "82118c7c",
   "metadata": {},
   "outputs": [
    {
     "name": "stdout",
     "output_type": "stream",
     "text": [
      "CPU times: user 822 ms, sys: 81 ms, total: 903 ms\n",
      "Wall time: 11.7 s\n"
     ]
    },
    {
     "data": {
      "text/plain": [
       "\"The actors with the first name 'SCARLETT' are:\\n\\n- SCARLETT DAMON\\n- SCARLETT BENING\""
      ]
     },
     "execution_count": 25,
     "metadata": {},
     "output_type": "execute_result"
    }
   ],
   "source": [
    "%%time\n",
    "\n",
    "import warnings\n",
    "warnings.filterwarnings(\"ignore\")\n",
    "\n",
    "from sqlalchemy import create_engine\n",
    "\n",
    "from langchain import SQLDatabase\n",
    "from langchain.chains import create_sql_query_chain\n",
    "from langchain_openai import OpenAI\n",
    "from langchain_openai.chat_models import ChatOpenAI   \n",
    "\n",
    "import pandas as pd\n",
    "\n",
    "import os                           \n",
    "from dotenv import load_dotenv        \n",
    "\n",
    "\n",
    "\n",
    "\n",
    "load_dotenv()\n",
    "\n",
    "OPENAI_API_KEY = os.getenv(\"OPENAI_API_KEY\")\n",
    "\n",
    "\n",
    "snowflake_account = os.getenv(\"snowflake_account\")\n",
    "\n",
    "username = os.getenv(\"username\")\n",
    "\n",
    "password = os.getenv(\"password\")\n",
    "\n",
    "database = os.getenv(\"database\")\n",
    "\n",
    "schema = os.getenv(\"schema\")\n",
    "\n",
    "warehouse = os.getenv(\"warehouse\")\n",
    "\n",
    "role = os.getenv(\"role\")\n",
    "\n",
    "\n",
    "URI = f\"snowflake://{username}:{password}@{snowflake_account}/{database}/{schema}?warehouse={warehouse}&role={role}\"\n",
    "    \n",
    "    \n",
    "cursor = create_engine(URI).connect()\n",
    "\n",
    "\n",
    "tables = cursor.execute(\"show tables;\").fetchall()\n",
    "\n",
    "tables = [e[1] for e in tables]\n",
    "\n",
    "\n",
    "db = SQLDatabase.from_uri(URI,\n",
    "                          sample_rows_in_table_info=1, \n",
    "                          include_tables=tables)\n",
    "\n",
    "input_model = OpenAI(temperature=0)\n",
    "\n",
    "\n",
    "database_chain = create_sql_query_chain(input_model, db)\n",
    "\n",
    "\n",
    "prompt = \"Which actors have the first name ‘SCARLETT’? Add `` to table name\"\n",
    "\n",
    "\n",
    "sql_query = database_chain.invoke({\"question\": prompt})\n",
    "\n",
    "\n",
    "response = cursor.execute(sql_query).fetchall()\n",
    "\n",
    "\n",
    "context = pd.DataFrame(response).to_markdown()\n",
    "\n",
    "\n",
    "output_model = ChatOpenAI(model=\"gpt-4-turbo\")\n",
    "\n",
    "\n",
    "\n",
    "final_prompt = f\"\"\"Given the next context, answer the cuestion: \n",
    "                    \n",
    "                   context: {context}, \n",
    "                    \n",
    "                   question: {prompt}\n",
    "                    \n",
    "                   \"\"\"\n",
    "\n",
    "\n",
    "\n",
    "output_model.invoke(final_prompt).content"
   ]
  }
 ],
 "metadata": {
  "kernelspec": {
   "display_name": "virtual",
   "language": "python",
   "name": "virtual"
  },
  "language_info": {
   "codemirror_mode": {
    "name": "ipython",
    "version": 3
   },
   "file_extension": ".py",
   "mimetype": "text/x-python",
   "name": "python",
   "nbconvert_exporter": "python",
   "pygments_lexer": "ipython3",
   "version": "3.10.14"
  },
  "toc": {
   "base_numbering": 1,
   "nav_menu": {},
   "number_sections": false,
   "sideBar": true,
   "skip_h1_title": true,
   "title_cell": "Table of Contents",
   "title_sidebar": "Contents",
   "toc_cell": true,
   "toc_position": {
    "height": "508px",
    "left": "108px",
    "top": "111.141px",
    "width": "268.797px"
   },
   "toc_section_display": true,
   "toc_window_display": true
  }
 },
 "nbformat": 4,
 "nbformat_minor": 5
}
